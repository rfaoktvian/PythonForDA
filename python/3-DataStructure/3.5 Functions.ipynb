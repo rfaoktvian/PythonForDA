{
 "cells": [
  {
   "cell_type": "markdown",
   "metadata": {},
   "source": [
    "### PYTHON FUNCTIONS\n",
    "\n",
    "A function is a block of code which only runs when it is called.\n",
    "\n",
    "You can pass data, known as parameters, into a function.\n",
    "\n",
    "A function can return data as a result.\n",
    "\n",
    "\n",
    "In Python a function is defined using the def keyword:"
   ]
  },
  {
   "cell_type": "code",
   "execution_count": 1,
   "metadata": {},
   "outputs": [
    {
     "name": "stdout",
     "output_type": "stream",
     "text": [
      "Hello from a function\n"
     ]
    }
   ],
   "source": [
    "## Format pembuatan fungsi\n",
    "\n",
    "def my_function():\n",
    "  print(\"Hello from a function\")\n",
    "\n",
    "my_function()"
   ]
  },
  {
   "cell_type": "markdown",
   "metadata": {},
   "source": [
    "### ARGUMENTS\n",
    "\n",
    "Information can be passed into functions as arguments.\n",
    "\n",
    "Arguments are specified after the function name, inside the parentheses. You can add as many arguments as you want, just separate them with a comma.\n",
    "\n",
    "The following example has a function with one argument (fname). When the function is called, we pass along a first name, which is used inside the function to print the full name"
   ]
  },
  {
   "cell_type": "code",
   "execution_count": 8,
   "metadata": {},
   "outputs": [
    {
     "name": "stdout",
     "output_type": "stream",
     "text": [
      "Emil Refsnes\n",
      "Tobias Refsnes\n",
      "Linus Refsnes\n",
      "===============================\n",
      "Emil Refsnes\n"
     ]
    }
   ],
   "source": [
    "def my_function(fname):\n",
    "  print(fname + \" Refsnes\")\n",
    "\n",
    "my_function(\"Emil\")\n",
    "my_function(\"Tobias\")\n",
    "my_function(\"Linus\")\n",
    "\n",
    "print(\"===============================\")\n",
    "\n",
    "def my_function(fname, lname): ## 2 arguments\n",
    "  print(fname + \" \" + lname)\n",
    "\n",
    "my_function(\"Emil\", \"Refsnes\")"
   ]
  },
  {
   "cell_type": "markdown",
   "metadata": {},
   "source": [
    "### ARBITRARY ARGUMENTS, *args\n",
    "\n",
    "If you do not know how many arguments that will be passed into your function, add a * before the parameter name in the function definition.\n",
    "\n",
    "This way the function will receive a tuple of arguments, and can access the items accordingly:"
   ]
  },
  {
   "cell_type": "code",
   "execution_count": 12,
   "metadata": {},
   "outputs": [
    {
     "name": "stdout",
     "output_type": "stream",
     "text": [
      "The youngest child is Linus\n"
     ]
    }
   ],
   "source": [
    "## args\n",
    "\n",
    "def my_function(*kids):\n",
    "  print(\"The youngest child is \" + kids[2])\n",
    "\n",
    "my_function(\"Emil\", \"Tobias\", \"Linus\")"
   ]
  },
  {
   "cell_type": "code",
   "execution_count": null,
   "metadata": {},
   "outputs": [
    {
     "ename": "TypeError",
     "evalue": "unhashable type: 'dict'",
     "output_type": "error",
     "traceback": [
      "\u001b[1;31m---------------------------------------------------------------------------\u001b[0m",
      "\u001b[1;31mTypeError\u001b[0m                                 Traceback (most recent call last)",
      "Cell \u001b[1;32mIn[7], line 6\u001b[0m\n\u001b[0;32m      3\u001b[0m \u001b[38;5;28;01mdef\u001b[39;00m\u001b[38;5;250m \u001b[39m\u001b[38;5;21mmy_function\u001b[39m(\u001b[38;5;241m*\u001b[39m\u001b[38;5;241m*\u001b[39mchild):\n\u001b[0;32m      4\u001b[0m   \u001b[38;5;28mprint\u001b[39m(\u001b[38;5;124m\"\u001b[39m\u001b[38;5;124mThe youngest child is \u001b[39m\u001b[38;5;124m\"\u001b[39m \u001b[38;5;241m+\u001b[39m child[child])\n\u001b[1;32m----> 6\u001b[0m \u001b[43mmy_function\u001b[49m\u001b[43m(\u001b[49m\u001b[43mchild1\u001b[49m\u001b[43m \u001b[49m\u001b[38;5;241;43m=\u001b[39;49m\u001b[43m \u001b[49m\u001b[38;5;124;43m\"\u001b[39;49m\u001b[38;5;124;43mEmil\u001b[39;49m\u001b[38;5;124;43m\"\u001b[39;49m\u001b[43m,\u001b[49m\u001b[43m \u001b[49m\u001b[43mchild2\u001b[49m\u001b[43m \u001b[49m\u001b[38;5;241;43m=\u001b[39;49m\u001b[43m \u001b[49m\u001b[38;5;124;43m\"\u001b[39;49m\u001b[38;5;124;43mTobias\u001b[39;49m\u001b[38;5;124;43m\"\u001b[39;49m\u001b[43m,\u001b[49m\u001b[43m \u001b[49m\u001b[43mchild3\u001b[49m\u001b[43m \u001b[49m\u001b[38;5;241;43m=\u001b[39;49m\u001b[43m \u001b[49m\u001b[38;5;124;43m\"\u001b[39;49m\u001b[38;5;124;43mLinus\u001b[39;49m\u001b[38;5;124;43m\"\u001b[39;49m\u001b[43m)\u001b[49m\n",
      "Cell \u001b[1;32mIn[7], line 4\u001b[0m, in \u001b[0;36mmy_function\u001b[1;34m(**child)\u001b[0m\n\u001b[0;32m      3\u001b[0m \u001b[38;5;28;01mdef\u001b[39;00m\u001b[38;5;250m \u001b[39m\u001b[38;5;21mmy_function\u001b[39m(\u001b[38;5;241m*\u001b[39m\u001b[38;5;241m*\u001b[39mchild):\n\u001b[1;32m----> 4\u001b[0m   \u001b[38;5;28mprint\u001b[39m(\u001b[38;5;124m\"\u001b[39m\u001b[38;5;124mThe youngest child is \u001b[39m\u001b[38;5;124m\"\u001b[39m \u001b[38;5;241m+\u001b[39m \u001b[43mchild\u001b[49m\u001b[43m[\u001b[49m\u001b[43mchild\u001b[49m\u001b[43m]\u001b[49m)\n",
      "\u001b[1;31mTypeError\u001b[0m: unhashable type: 'dict'"
     ]
    }
   ],
   "source": [
    "# keyword arguments, key=value\n",
    "\n",
    "def my_function(child3, child2, child1):\n",
    "  print(\"The youngest child is \" + child3)\n",
    "\n",
    "my_function(child1 = \"Emil\", child2 = \"Tobias\", child3 = \"Linus\")"
   ]
  },
  {
   "cell_type": "code",
   "execution_count": 11,
   "metadata": {},
   "outputs": [
    {
     "name": "stdout",
     "output_type": "stream",
     "text": [
      "His last name is Refsnes\n",
      "============================================\n",
      "============================================\n",
      "Nama:Raffa\n",
      "Kota:Purbalingga\n"
     ]
    }
   ],
   "source": [
    "## kwargs w/ **\n",
    "def my_function(**kid):\n",
    "  print(\"His last name is \" + kid[\"lname\"])\n",
    "\n",
    "my_function(fname = \"Tobias\", lname = \"Refsnes\")\n",
    "\n",
    "\n",
    "\n",
    "## CONTOH KEDUA\n",
    "print(\"============================================\")\n",
    "print(\"============================================\")\n",
    "\n",
    "\n",
    "\n",
    "def contoh2(**cnth):\n",
    "  for key,value in cnth.items():\n",
    "    print(f\"{key}:{value}\")\n",
    "  \n",
    "contoh2(Nama= \"Raffa\", Kota = \"Purbalingga\")"
   ]
  },
  {
   "cell_type": "code",
   "execution_count": null,
   "metadata": {},
   "outputs": [],
   "source": []
  },
  {
   "cell_type": "code",
   "execution_count": 15,
   "metadata": {},
   "outputs": [
    {
     "name": "stdout",
     "output_type": "stream",
     "text": [
      "I am from Sweden\n",
      "I am from India\n",
      "I am from Norway\n",
      "I am from Brazil\n"
     ]
    }
   ],
   "source": [
    "## DEFAULT PARAMETER VALUE\n",
    "\n",
    "def my_function(country = \"Norway\"):\n",
    "  print(\"I am from \" + country)\n",
    "\n",
    "my_function(\"Sweden\")\n",
    "my_function(\"India\")\n",
    "my_function()\n",
    "my_function(\"Brazil\")"
   ]
  },
  {
   "cell_type": "code",
   "execution_count": 16,
   "metadata": {},
   "outputs": [
    {
     "name": "stdout",
     "output_type": "stream",
     "text": [
      "apple\n",
      "banana\n",
      "cherry\n"
     ]
    }
   ],
   "source": [
    "## Memakau List sebagai Argument\n",
    "\n",
    "def my_function(food):\n",
    "  for x in food: # menampilkan list makanan\n",
    "    print(x)\n",
    "\n",
    "fruits = [\"apple\", \"banana\", \"cherry\"] # list buah\n",
    "\n",
    "my_function(fruits)"
   ]
  },
  {
   "cell_type": "code",
   "execution_count": 17,
   "metadata": {},
   "outputs": [
    {
     "name": "stdout",
     "output_type": "stream",
     "text": [
      "15\n",
      "25\n",
      "45\n"
     ]
    }
   ],
   "source": [
    "## RETURN VALUES\n",
    "\n",
    "def my_function(x):\n",
    "  return 5 * x\n",
    "\n",
    "print(my_function(3))\n",
    "print(my_function(5))\n",
    "print(my_function(9))"
   ]
  },
  {
   "cell_type": "markdown",
   "metadata": {},
   "source": [
    "### ARGUMENTSS"
   ]
  },
  {
   "cell_type": "code",
   "execution_count": 19,
   "metadata": {},
   "outputs": [
    {
     "name": "stdout",
     "output_type": "stream",
     "text": [
      "3\n"
     ]
    }
   ],
   "source": [
    "## Positional Only Arguments\n",
    "## ,/\n",
    "\n",
    "def hitung_luas(panjang, lebar, /):\n",
    "    return panjang * lebar\n",
    "\n",
    "# Pemanggilan yang benar ✅\n",
    "print(hitung_luas(5, 3))\n",
    "\n",
    "# Pemanggilan yang salah ❌\n",
    "print(hitung_luas(panjang=5, lebar=3))  # Error!\n"
   ]
  },
  {
   "cell_type": "code",
   "execution_count": null,
   "metadata": {},
   "outputs": [],
   "source": [
    "## Keyword Arguments (*)\n",
    "\n",
    "def buat_profil(nama, *, umur, kota):\n",
    "    return f\"Nama: {nama}, Umur: {umur}, Kota: {kota}\"\n",
    "\n",
    "# Pemanggilan yang benar ✅\n",
    "print(buat_profil(\"Budi\", umur=25, kota=\"Jakarta\"))\n",
    "\n",
    "# Pemanggilan yang salah ❌\n",
    "print(buat_profil(\"Budi\", 25, \"Jakarta\"))  # Error!\n"
   ]
  },
  {
   "cell_type": "code",
   "execution_count": 20,
   "metadata": {},
   "outputs": [
    {
     "name": "stdout",
     "output_type": "stream",
     "text": [
      "Produk: Laptop, Kategori: Elektronik, Harga: 10000000\n",
      "Produk: Laptop, Kategori: Elektronik, Harga: 10000000\n"
     ]
    }
   ],
   "source": [
    "## Combine Positional-Only and Keyword-Only\n",
    "## Any argument before the / , are positional-only, and any argument after the *, are keyword-only.\n",
    "\n",
    "def info_produk(nama, /, kategori, *, harga):\n",
    "    return f\"Produk: {nama}, Kategori: {kategori}, Harga: {harga}\"\n",
    "\n",
    "# Pemanggilan yang benar ✅\n",
    "print(info_produk(\"Laptop\", \"Elektronik\", harga=10000000))  \n",
    "print(info_produk(\"Laptop\", kategori=\"Elektronik\", harga=10000000))  \n",
    "\n",
    "# Pemanggilan yang salah ❌\n",
    "print(info_produk(nama=\"Laptop\", kategori=\"Elektronik\", harga=10000000))  # Error!\n",
    "print(info_produk(\"Laptop\", \"Elektronik\", 10000000))  # Error!\n"
   ]
  },
  {
   "cell_type": "markdown",
   "metadata": {},
   "source": [
    "### RECURSION"
   ]
  },
  {
   "cell_type": "markdown",
   "metadata": {},
   "source": [
    "Python also accepts function recursion, which means a defined function can call itself.\n",
    "\n",
    "Recursion is a common mathematical and programming concept. It means that a function calls itself. This has the benefit of meaning that you can loop through data to reach a result.\n",
    "\n",
    "The developer should be very careful with recursion as it can be quite easy to slip into writing a function which never terminates, or one that uses excess amounts of memory or processor power. However, when written correctly recursion can be a very efficient and mathematically-elegant approach to programming.\n",
    "\n",
    "In this example, tri_recursion() is a function that we have defined to call itself (\"recurse\"). We use the k variable as the data, which decrements (-1) every time we recurse. The recursion ends when the condition is not greater than 0 (i.e. when it is 0).\n",
    "\n",
    "To a new developer it can take some time to work out how exactly this works, best way to find out is by testing and modifying it."
   ]
  },
  {
   "cell_type": "code",
   "execution_count": 22,
   "metadata": {},
   "outputs": [
    {
     "name": "stdout",
     "output_type": "stream",
     "text": [
      "120\n"
     ]
    }
   ],
   "source": [
    "## RECURSION\n",
    "## Memanggil dirinya sendiri dengan rumus kecill\n",
    "## Contoh soal faktorial\n",
    "\n",
    "def faktorial(n):\n",
    "    if n == 1:  # Base case\n",
    "        return 1\n",
    "    return n * faktorial(n - 1)  # Recursive case\n",
    "\n",
    "print(faktorial(5))  # Output: 120\n"
   ]
  },
  {
   "cell_type": "code",
   "execution_count": 1,
   "metadata": {},
   "outputs": [
    {
     "name": "stdout",
     "output_type": "stream",
     "text": [
      "Recursion Example Results:\n",
      "1\n",
      "3\n",
      "6\n",
      "10\n",
      "15\n",
      "21\n"
     ]
    },
    {
     "data": {
      "text/plain": [
       "21"
      ]
     },
     "execution_count": 1,
     "metadata": {},
     "output_type": "execute_result"
    }
   ],
   "source": [
    "## RECURSION\n",
    "\n",
    "def tri_recursion(k):\n",
    "  if(k > 0):\n",
    "    result = k + tri_recursion(k - 1)\n",
    "    print(result)\n",
    "  else:\n",
    "    result = 0\n",
    "  return result\n",
    "\n",
    "print(\"Recursion Example Results:\")\n",
    "tri_recursion(6)"
   ]
  },
  {
   "cell_type": "markdown",
   "metadata": {},
   "source": [
    "### LAMBDA\n",
    "\n",
    "A lambda function can take any number of arguments, but can only have one expression.\n",
    "\n",
    "Argumen adalah nilai atau variabel yang dikirim ke fungsi saat fungsi tersebut dipanggil.\n",
    "\n",
    "Expression adalah bagian dari kode yang menghasilkan nilai (value) ketika dievaluasi.\n",
    "Dalam lambda function, expression adalah operasi atau logika yang dilakukan pada argumen."
   ]
  },
  {
   "cell_type": "code",
   "execution_count": 2,
   "metadata": {},
   "outputs": [
    {
     "name": "stdout",
     "output_type": "stream",
     "text": [
      "15\n"
     ]
    }
   ],
   "source": [
    "x = lambda a: a + 10 # a merupakan argumen & a + 10 merupakan ekspresi\n",
    "print(x(5))"
   ]
  },
  {
   "cell_type": "code",
   "execution_count": null,
   "metadata": {},
   "outputs": [],
   "source": [
    "x = lambda a, b, c : a + b + c # a, b, c merupakan argumen & a + b + c\n",
    "print(x(5, 6, 2))"
   ]
  },
  {
   "cell_type": "code",
   "execution_count": 3,
   "metadata": {},
   "outputs": [
    {
     "name": "stdout",
     "output_type": "stream",
     "text": [
      "22\n"
     ]
    }
   ],
   "source": [
    "def myfunc(n):\n",
    "  return lambda a : a * n\n",
    "\n",
    "mydoubler = myfunc(2)\n",
    "\n",
    "print(mydoubler(11))"
   ]
  },
  {
   "cell_type": "code",
   "execution_count": 3,
   "metadata": {},
   "outputs": [
    {
     "name": "stdout",
     "output_type": "stream",
     "text": [
      "21 merupakan bilangan ganjil\n"
     ]
    }
   ],
   "source": [
    "## MENGHITUNG GENAP GANJIL\n",
    "def genap_ganjil(num):\n",
    "    if num % 2 == 0:\n",
    "        print(f\"{num} merupakan bilangan genap\")\n",
    "    else:\n",
    "        print(f\"{num} merupakan bilangan ganjil\")\n",
    "\n",
    "inputan = int(input(\"Masukkan bilangan: \"))\n",
    "\n",
    "genap_ganjil(inputan)"
   ]
  },
  {
   "cell_type": "code",
   "execution_count": 14,
   "metadata": {},
   "outputs": [
    {
     "name": "stdout",
     "output_type": "stream",
     "text": [
      "Case 2\n"
     ]
    }
   ],
   "source": [
    "def switch_case(value):\n",
    "    match value:\n",
    "        case 1:\n",
    "            print(\"Case 1\")\n",
    "        case 2:\n",
    "            print(\"Case 2\")\n",
    "        case 3:\n",
    "            print(\"Case 3\")\n",
    "        case _:\n",
    "            print(\"Default case\")\n",
    "\n",
    "switch_case(2)  # Output: Case 2"
   ]
  },
  {
   "cell_type": "markdown",
   "metadata": {},
   "source": [
    "### MAP FUNCTION\n",
    "\n",
    "Mengimplementasikan function ke semua item di dalam list"
   ]
  },
  {
   "cell_type": "code",
   "execution_count": 28,
   "metadata": {},
   "outputs": [
    {
     "name": "stdout",
     "output_type": "stream",
     "text": [
      "Total dari harga belanja: 39000\n"
     ]
    }
   ],
   "source": [
    "## CONTOH TUGAS FUNCTION MENGHITUNG TOTAL HARGA PEMBELIAN\n",
    "\n",
    "def total_harga(keranjang):\n",
    "    total_hrg = 0\n",
    "    for i in keranjang:\n",
    "       total_hrg+=i[\"Harga\"]*i[\"Jumlah\"]\n",
    "    return total_hrg\n",
    "\n",
    "\n",
    "keranjang = [\n",
    "    {\"Nama\":\"Baut\",\"Harga\":3000,\"Jumlah\":3},\n",
    "    {\"Nama\":\"Bor\",\"Harga\":5000,\"Jumlah\":4},\n",
    "    {\"Nama\":\"Paku\",\"Harga\":2000,\"Jumlah\":5},\n",
    "]\n",
    "\n",
    "total = print(f\"Total dari harga belanja: {total_harga(keranjang)}\")\n",
    "\n",
    "\n"
   ]
  },
  {
   "cell_type": "code",
   "execution_count": 34,
   "metadata": {},
   "outputs": [
    {
     "name": "stdout",
     "output_type": "stream",
     "text": [
      "True\n"
     ]
    }
   ],
   "source": [
    "## MENGECEK PALINDROME\n",
    "\n",
    "def is_palindrome(s):\n",
    "    s=s.lower().replace(\" \",\"\") # lower untuk mengubah masukan menjadi lowercase, replace untuk menghapus spasi\n",
    "    return s==s[::-1] # menampilkan s dari belakang ke depan\n",
    "\n",
    "print(is_palindrome(\"kasur rusaK\"))"
   ]
  },
  {
   "cell_type": "code",
   "execution_count": 3,
   "metadata": {},
   "outputs": [
    {
     "name": "stdout",
     "output_type": "stream",
     "text": [
      "{'hallo': 1, 'my': 1, 'name': 1, 'is': 1, 'raffa': 1}\n"
     ]
    }
   ],
   "source": [
    "## MENGHITUNG FREKUENSI JUMLAH KAATA\n",
    "\n",
    "def count_word_frequency(file_path):\n",
    "    word_count = {}  # Langkah 1: Inisialisasi dictionary untuk menyimpan frekuensi kata\n",
    "    with open(file_path, 'r') as file:  # Langkah 2: Buka file untuk dibaca\n",
    "        for line in file:  # Langkah 3: Baca setiap baris dalam file\n",
    "            words = line.split()  # Langkah 4: Pisahkan baris menjadi kata-kata\n",
    "            for word in words:  # Langkah 5: Iterasi setiap kata\n",
    "                word = word.lower().strip('.,/!#?|')  # Langkah 6: Normalisasi kata\n",
    "                word_count[word] = word_count.get(word, 0) + 1  # Langkah 7: Hitung frekuensi kata\n",
    "    return word_count  # Langkah 8: Kembalikan dictionary frekuensi kata\n",
    "\n",
    "filepath = \"sample.txt\"  # Langkah 9: Tentukan path file\n",
    "word_freq = count_word_frequency(filepath)  # Langkah 10: Panggil fungsi dan simpan hasilnya\n",
    "print(word_freq)  # Langkah 11: Cetak hasil frekuensi kata"
   ]
  },
  {
   "cell_type": "code",
   "execution_count": null,
   "metadata": {},
   "outputs": [],
   "source": []
  }
 ],
 "metadata": {
  "kernelspec": {
   "display_name": "Python 3",
   "language": "python",
   "name": "python3"
  },
  "language_info": {
   "codemirror_mode": {
    "name": "ipython",
    "version": 3
   },
   "file_extension": ".py",
   "mimetype": "text/x-python",
   "name": "python",
   "nbconvert_exporter": "python",
   "pygments_lexer": "ipython3",
   "version": "3.12.0"
  }
 },
 "nbformat": 4,
 "nbformat_minor": 2
}
