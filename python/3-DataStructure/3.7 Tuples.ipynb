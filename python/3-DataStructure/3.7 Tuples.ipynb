{
 "cells": [
  {
   "cell_type": "markdown",
   "metadata": {},
   "source": [
    "### TUPLE\n",
    "\n",
    "Tuple adalah salah satu tipe data bawaan di Python yang digunakan untuk menyimpan kumpulan data. Tuple mirip dengan list, tetapi perbedaan utamanya adalah bahwa tuple bersifat immutable, artinya elemen-elemen dalam tuple tidak dapat diubah (ditambah, dihapus, atau dimodifikasi) setelah tuple dibuat.\n",
    "\n",
    "Ciri-ciri Tuple:\n",
    "- Immutable: Data tidak bisa diubah setelah dibuat.\n",
    "- Ditandai dengan tanda kurung biasa ().\n",
    "- Dapat menyimpan berbagai jenis data: Seperti angka, string, list, atau bahkan tuple lain.\n",
    "- Diindeks: Elemen-elemen dalam tuple dapat diakses menggunakan indeks, sama seperti list.\n",
    "- Mendukung pengulangan (iteration): Tuple dapat digunakan dalam perulangan.\n"
   ]
  },
  {
   "cell_type": "code",
   "execution_count": 2,
   "metadata": {},
   "outputs": [
    {
     "name": "stdout",
     "output_type": "stream",
     "text": [
      "() <class 'tuple'>\n"
     ]
    }
   ],
   "source": [
    "## FORMAT DEFAULT TUPLE\n",
    "\n",
    "empty_tuple = ()\n",
    "print(empty_tuple, type(empty_tuple))"
   ]
  },
  {
   "cell_type": "code",
   "execution_count": 13,
   "metadata": {},
   "outputs": [
    {
     "name": "stdout",
     "output_type": "stream",
     "text": [
      "(1, 2, 3, 3, 4, 5) <class 'tuple'>\n",
      "(1, 2, 3, 4, 5) <class 'tuple'>\n"
     ]
    }
   ],
   "source": [
    "numbers = (1, 2,3,3,4,5)\n",
    "print(numbers, type(numbers))\n",
    "\n",
    "angka = tuple([1,2,3,4,5])\n",
    "print(angka, type(angka))"
   ]
  },
  {
   "cell_type": "code",
   "execution_count": 24,
   "metadata": {},
   "outputs": [
    {
     "name": "stdout",
     "output_type": "stream",
     "text": [
      "2\n",
      "0\n"
     ]
    }
   ],
   "source": [
    "countt=numbers.count(3) # Menghitung jumlah data / item pada tuples\n",
    "indeexx = numbers.index(1) # Menghitung index data / item pada tuples\n",
    "\n",
    "print(countt)\n",
    "print(indeexx)"
   ]
  },
  {
   "cell_type": "code",
   "execution_count": null,
   "metadata": {},
   "outputs": [],
   "source": []
  }
 ],
 "metadata": {
  "kernelspec": {
   "display_name": "venv",
   "language": "python",
   "name": "python3"
  },
  "language_info": {
   "codemirror_mode": {
    "name": "ipython",
    "version": 3
   },
   "file_extension": ".py",
   "mimetype": "text/x-python",
   "name": "python",
   "nbconvert_exporter": "python",
   "pygments_lexer": "ipython3",
   "version": "3.12.0"
  }
 },
 "nbformat": 4,
 "nbformat_minor": 2
}
