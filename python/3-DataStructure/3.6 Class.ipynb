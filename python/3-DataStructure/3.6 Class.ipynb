{
 "cells": [
  {
   "cell_type": "markdown",
   "metadata": {},
   "source": [
    "### CLASS\n",
    "\n",
    "Class adalah salah satu konsep fundamental dalam pemrograman berorientasi objek (OOP). Class digunakan sebagai blueprint atau template untuk membuat objek. Objek adalah instance (perwujudan) dari class. Class mendefinisikan atribut (data) dan metode (fungsi) yang dimiliki oleh objek.\n",
    "\n",
    "Komponen Utama Class\n",
    "1. Atribut:\n",
    "Variabel yang menyimpan data terkait class atau objek.\n",
    "Contoh: nama, umur, warna, dll.\n",
    "\n",
    "2. Metode:\n",
    "Fungsi yang didefinisikan dalam class untuk melakukan operasi tertentu.\n",
    "Contoh: berjalan(), makan(), hitung_luas(), dll.\n",
    "\n",
    "3. Constructor:\n",
    "Metode khusus yang dipanggil saat objek dibuat.\n",
    "Di Python, constructor didefinisikan menggunakan metode __init__.\n",
    "\n",
    "4. Instance (Objek):\n",
    "Objek adalah perwujudan dari class.\n",
    "Contoh: Jika class adalah Mobil, maka objeknya bisa berupa mobil1, mobil2, dll"
   ]
  },
  {
   "cell_type": "code",
   "execution_count": null,
   "metadata": {},
   "outputs": [],
   "source": [
    "## FORMAT DEFAULT CLASS\n",
    "\n",
    "class NamaClass:\n",
    "    def __init__(self, parameter1, parameter2):  # Constructor\n",
    "        self.atribut1 = parameter1\n",
    "        self.atribut2 = parameter2\n",
    "\n",
    "    def metode1(self):  # Metode\n",
    "        # Logika metode\n",
    "        pass "
   ]
  },
  {
   "cell_type": "code",
   "execution_count": 1,
   "metadata": {},
   "outputs": [
    {
     "name": "stdout",
     "output_type": "stream",
     "text": [
      "Mobil Toyota berwarna Merah.\n",
      "Mobil Honda berwarna Biru.\n"
     ]
    }
   ],
   "source": [
    "## CLASS SEDERHANA\n",
    "\n",
    "# Mendefinisikan class\n",
    "class Mobil:\n",
    "    def __init__(self, merek, warna):  # dalam pembuatan class harus ada __init__ sebagai constructor\n",
    "        self.merek = merek  # Atribut\n",
    "        self.warna = warna  # Atribut\n",
    "\n",
    "    def deskripsi(self):  # Metode digunakan untuk mengakses atribut\n",
    "        return f\"Mobil {self.merek} berwarna {self.warna}.\"\n",
    "\n",
    "# Membuat objek dari class\n",
    "mobil1 = Mobil(\"Toyota\", \"Merah\")\n",
    "mobil2 = Mobil(\"Honda\", \"Biru\")\n",
    "\n",
    "# Mengakses atribut dan metode\n",
    "print(mobil1.deskripsi())  # Output: Mobil Toyota berwarna Merah.\n",
    "print(mobil2.deskripsi())  # Output: Mobil Honda berwarna Biru."
   ]
  },
  {
   "cell_type": "code",
   "execution_count": 2,
   "metadata": {},
   "outputs": [
    {
     "name": "stdout",
     "output_type": "stream",
     "text": [
      "John\n",
      "36\n"
     ]
    }
   ],
   "source": [
    "## INIT\n",
    "\n",
    "class Person:\n",
    "  def __init__(self, name, age):\n",
    "    self.name = name\n",
    "    self.age = age\n",
    "\n",
    "p1 = Person(\"John\", 36)\n",
    "\n",
    "print(p1.name)\n",
    "print(p1.age)"
   ]
  },
  {
   "cell_type": "code",
   "execution_count": 3,
   "metadata": {},
   "outputs": [
    {
     "name": "stdout",
     "output_type": "stream",
     "text": [
      "John(36)\n"
     ]
    }
   ],
   "source": [
    "## STR\n",
    "## The __str__() function controls what should be returned when the class object is represented as a string.\n",
    "## If the __str__() function is not set, the string representation of the object is returned:\n",
    "\n",
    "class Person:\n",
    "  def __init__(self, name, age):\n",
    "    self.name = name\n",
    "    self.age = age\n",
    "\n",
    "  def __str__(self):\n",
    "    return f\"{self.name}({self.age})\"\n",
    "\n",
    "p1 = Person(\"John\", 36)\n",
    "\n",
    "print(p1)"
   ]
  },
  {
   "cell_type": "code",
   "execution_count": 4,
   "metadata": {},
   "outputs": [
    {
     "name": "stdout",
     "output_type": "stream",
     "text": [
      "<__main__.Person object at 0x00000251613E2B70>\n"
     ]
    }
   ],
   "source": [
    "## Apabila tidak menggunakan STR()\n",
    "\n",
    "class Person:\n",
    "  def __init__(self, name, age):\n",
    "    self.name = name\n",
    "    self.age = age\n",
    "\n",
    "p1 = Person(\"John\", 36)\n",
    "\n",
    "print(p1)"
   ]
  },
  {
   "cell_type": "markdown",
   "metadata": {},
   "source": [
    "### OBJECT METHODS"
   ]
  },
  {
   "cell_type": "code",
   "execution_count": 5,
   "metadata": {},
   "outputs": [
    {
     "name": "stdout",
     "output_type": "stream",
     "text": [
      "Hello my name is John\n"
     ]
    }
   ],
   "source": [
    "class Person:\n",
    "  def __init__(self, name, age):\n",
    "    self.name = name\n",
    "    self.age = age\n",
    "\n",
    "  def myfunc(self):\n",
    "    print(\"Hello my name is \" + self.name)\n",
    "\n",
    "p1 = Person(\"John\", 36)\n",
    "p1.myfunc()"
   ]
  },
  {
   "cell_type": "markdown",
   "metadata": {},
   "source": [
    "### THE SELF PARAMETER\n",
    "\n",
    "The self parameter is a reference to the current instance of the class, and is used to access variables that belong to the class.\n",
    "\n",
    "It does not have to be named self, you can call it whatever you like, but it has to be the first parameter of any function in the class:"
   ]
  },
  {
   "cell_type": "code",
   "execution_count": 12,
   "metadata": {},
   "outputs": [
    {
     "name": "stdout",
     "output_type": "stream",
     "text": [
      "Hello my name is John and I am 36\n"
     ]
    }
   ],
   "source": [
    "class Person:\n",
    "  def __init__(mysillyobject, name, age):\n",
    "    mysillyobject.name = name\n",
    "    mysillyobject.age = age\n",
    "\n",
    "  def myfunc(abc):\n",
    "    print(\"Hello my name is \" + abc.name + \" and I am \" + str(abc.age))\n",
    "\n",
    "p1 = Person(\"John\", 36)\n",
    "p1.myfunc()"
   ]
  },
  {
   "cell_type": "code",
   "execution_count": 13,
   "metadata": {},
   "outputs": [
    {
     "name": "stdout",
     "output_type": "stream",
     "text": [
      "Hello my name is John and I am 40\n"
     ]
    }
   ],
   "source": [
    "p1.age = 40\n",
    "p1.myfunc()"
   ]
  },
  {
   "cell_type": "code",
   "execution_count": null,
   "metadata": {},
   "outputs": [],
   "source": [
    "\n"
   ]
  }
 ],
 "metadata": {
  "kernelspec": {
   "display_name": "venv",
   "language": "python",
   "name": "python3"
  },
  "language_info": {
   "codemirror_mode": {
    "name": "ipython",
    "version": 3
   },
   "file_extension": ".py",
   "mimetype": "text/x-python",
   "name": "python",
   "nbconvert_exporter": "python",
   "pygments_lexer": "ipython3",
   "version": "3.12.0"
  }
 },
 "nbformat": 4,
 "nbformat_minor": 2
}
