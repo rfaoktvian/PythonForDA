{
 "cells": [
  {
   "cell_type": "markdown",
   "metadata": {},
   "source": [
    "### LIST IN PYTON\n",
    "\n",
    "\n",
    "List adalah salah satu struktur data bawaan di Python yang digunakan untuk menyimpan sekumpulan elemen dalam satu variabel. Elemen dalam list bisa berupa berbagai tipe data seperti angka, string, objek, atau bahkan list lain. List bersifat mutable, yang berarti Anda bisa mengubah elemen di dalamnya setelah dibuat.List bersifat:\n",
    "\n",
    "- Mutable: Isinya bisa diubah (ditambah, dihapus, atau dimodifikasi).\n",
    "- Ordered: Item di dalamnya memiliki urutan tertentu.\n",
    "- Heterogeneous: Dapat menyimpan berbagai jenis data (integer, string, float, bahkan list lain).\n",
    "\n"
   ]
  },
  {
   "cell_type": "code",
   "execution_count": 1,
   "metadata": {},
   "outputs": [
    {
     "name": "stdout",
     "output_type": "stream",
     "text": [
      "<class 'list'>\n"
     ]
    }
   ],
   "source": [
    "lst=[]\n",
    "print(type(lst))"
   ]
  },
  {
   "cell_type": "code",
   "execution_count": 2,
   "metadata": {},
   "outputs": [
    {
     "name": "stdout",
     "output_type": "stream",
     "text": [
      "['Raffa', 'Nazly', 'Oktafian', 1, 2, 3, 4, 5]\n"
     ]
    }
   ],
   "source": [
    "names=[\"Raffa\",\"Nazly\",\"Oktafian\",1,2,3,4,5]\n",
    "print(names)\n"
   ]
  },
  {
   "cell_type": "code",
   "execution_count": 3,
   "metadata": {},
   "outputs": [
    {
     "name": "stdout",
     "output_type": "stream",
     "text": [
      "[1, 'Raffa', 3.14, True]\n"
     ]
    }
   ],
   "source": [
    "mixed_list=[1,\"Raffa\",3.14,True]\n",
    "print(mixed_list)"
   ]
  },
  {
   "cell_type": "code",
   "execution_count": 2,
   "metadata": {},
   "outputs": [
    {
     "name": "stdout",
     "output_type": "stream",
     "text": [
      "Ini merupakan angka range -> 1\n",
      "Ini merupakan angka range -> 2\n",
      "Ini merupakan angka range -> 3\n",
      "Ini merupakan angka range -> 4\n",
      "Akhir program\n"
     ]
    }
   ],
   "source": [
    "## Menggunakan range\n",
    "\n",
    "angka_range = range(1,5)\n",
    "\n",
    "for i in angka_range:\n",
    "    print(f\"Ini merupakan angka range -> {i}\")\n",
    "print(\"Akhir program\")"
   ]
  },
  {
   "cell_type": "code",
   "execution_count": 5,
   "metadata": {},
   "outputs": [
    {
     "name": "stdout",
     "output_type": "stream",
     "text": [
      "Menggunakan Stringg"
     ]
    }
   ],
   "source": [
    "## Menggunakakan string\n",
    "\n",
    "data_str = \"Menggunakan Stringg\"\n",
    "\n",
    "for huruf in data_str:\n",
    "    print(huruf, end=\"\")"
   ]
  },
  {
   "cell_type": "code",
   "execution_count": 4,
   "metadata": {},
   "outputs": [
    {
     "name": "stdout",
     "output_type": "stream",
     "text": [
      "Apple\n",
      "Watermelon\n",
      "Banana\n",
      "Grape\n"
     ]
    }
   ],
   "source": [
    "## Accessing List Elements\n",
    "\n",
    "fruits=[\"Apple\",\"Watermelon\",\"Banana\",\"Grape\"]\n",
    "\n",
    "print(fruits[0])\n",
    "print(fruits[1])\n",
    "print(fruits[2])\n",
    "print(fruits[3])\n"
   ]
  },
  {
   "cell_type": "code",
   "execution_count": 7,
   "metadata": {},
   "outputs": [
    {
     "name": "stdout",
     "output_type": "stream",
     "text": [
      "['Watermelon', 'Banana', 'Grape']\n",
      "['Watermelon', 'Banana']\n",
      "[]\n",
      "['Apple', 'Watermelon', 'Banana', 'Grape']\n"
     ]
    },
    {
     "data": {
      "text/plain": [
       "'Watermelon'"
      ]
     },
     "execution_count": 7,
     "metadata": {},
     "output_type": "execute_result"
    }
   ],
   "source": [
    "print(fruits[1:])\n",
    "print(fruits[1:3])\n",
    "print(fruits[-1:0])\n",
    "print(fruits[0:4:1])\n"
   ]
  },
  {
   "cell_type": "code",
   "execution_count": 3,
   "metadata": {},
   "outputs": [
    {
     "name": "stdout",
     "output_type": "stream",
     "text": [
      "['Apple', 'Orange', 'Banana', 'Grape']\n"
     ]
    }
   ],
   "source": [
    "fruits=[\"Apple\",\"Watermelon\",\"Banana\",\"Grape\"]\n",
    "fruits[1] = \"Orange\"\n",
    "print(fruits)"
   ]
  },
  {
   "cell_type": "code",
   "execution_count": 5,
   "metadata": {},
   "outputs": [
    {
     "name": "stdout",
     "output_type": "stream",
     "text": [
      "['Apple', 'Salak', 'Orange', 'Banana', 'Grape']\n"
     ]
    }
   ],
   "source": [
    "fruits.insert(1,\"Salak\")\n",
    "print(fruits)"
   ]
  },
  {
   "cell_type": "code",
   "execution_count": 6,
   "metadata": {},
   "outputs": [
    {
     "name": "stdout",
     "output_type": "stream",
     "text": [
      "['Apple', 'Orange', 'Banana', 'Grape']\n"
     ]
    }
   ],
   "source": [
    "fruits.remove(\"Salak\")\n",
    "print(fruits)"
   ]
  },
  {
   "cell_type": "code",
   "execution_count": 29,
   "metadata": {},
   "outputs": [
    {
     "name": "stdout",
     "output_type": "stream",
     "text": [
      "[5, 2, 1, 4, 5, 9, 7, 6] "
     ]
    }
   ],
   "source": [
    "num1 = [5,2,1,4]\n",
    "num2 = [5,9,7,6]\n",
    "combine = num1 + num2 \n",
    "print(combine, end=\" \")"
   ]
  },
  {
   "cell_type": "code",
   "execution_count": 27,
   "metadata": {},
   "outputs": [
    {
     "name": "stdout",
     "output_type": "stream",
     "text": [
      "[8, 7, 6, 5]\n"
     ]
    }
   ],
   "source": [
    "num2.reverse()\n",
    "print(num2)"
   ]
  },
  {
   "cell_type": "code",
   "execution_count": 30,
   "metadata": {},
   "outputs": [
    {
     "name": "stdout",
     "output_type": "stream",
     "text": [
      "[5, 6, 7, 9]\n"
     ]
    }
   ],
   "source": [
    "num2.sort()\n",
    "print(num2)"
   ]
  },
  {
   "cell_type": "code",
   "execution_count": 34,
   "metadata": {},
   "outputs": [
    {
     "name": "stdout",
     "output_type": "stream",
     "text": [
      "[3, 4, 5]\n",
      "[1, 2, 3, 4, 5]\n",
      "[6, 7]\n",
      "[1, 3, 5, 7]\n",
      "[7, 6, 5, 4, 3, 2, 1]\n"
     ]
    }
   ],
   "source": [
    "## Slicing List\n",
    "\n",
    "numbers=[1,2,3,4,5,6,7]\n",
    "\n",
    "print(numbers[2:5])\n",
    "print(numbers[:5])\n",
    "print(numbers[5:])\n",
    "print(numbers[::2])\n",
    "print(numbers[::-1])"
   ]
  },
  {
   "cell_type": "code",
   "execution_count": 35,
   "metadata": {},
   "outputs": [
    {
     "data": {
      "text/plain": [
       "[1, 4, 7]"
      ]
     },
     "execution_count": 35,
     "metadata": {},
     "output_type": "execute_result"
    }
   ],
   "source": [
    "numbers[::3]"
   ]
  },
  {
   "cell_type": "code",
   "execution_count": 36,
   "metadata": {},
   "outputs": [
    {
     "name": "stdout",
     "output_type": "stream",
     "text": [
      "1\n",
      "2\n",
      "3\n",
      "4\n",
      "5\n",
      "6\n",
      "7\n"
     ]
    }
   ],
   "source": [
    "## Iterating Over List\n",
    "\n",
    "for number in numbers:\n",
    "    print(number)\n"
   ]
  },
  {
   "cell_type": "code",
   "execution_count": 38,
   "metadata": {},
   "outputs": [
    {
     "name": "stdout",
     "output_type": "stream",
     "text": [
      "0 1\n",
      "1 2\n",
      "2 3\n",
      "3 4\n",
      "4 5\n",
      "5 6\n",
      "6 7\n"
     ]
    }
   ],
   "source": [
    "## Iterating w/ Index\n",
    "\n",
    "for index, number in enumerate(numbers):\n",
    "    print(index,number)"
   ]
  },
  {
   "cell_type": "code",
   "execution_count": 44,
   "metadata": {},
   "outputs": [
    {
     "name": "stdout",
     "output_type": "stream",
     "text": [
      "[0, 1, 4, 9, 16, 25, 36, 49, 64, 81]\n"
     ]
    }
   ],
   "source": [
    "## List Comprehenssion\n",
    "\n",
    "list=[]\n",
    "for x in range(10):\n",
    "    list.append(x**2)\n",
    "\n",
    "print(list)"
   ]
  },
  {
   "cell_type": "markdown",
   "metadata": {},
   "source": [
    "### LIST COMPREHENSIONN"
   ]
  },
  {
   "cell_type": "code",
   "execution_count": 47,
   "metadata": {},
   "outputs": [
    {
     "name": "stdout",
     "output_type": "stream",
     "text": [
      "[0, 1, 4, 9, 16, 25, 36, 49, 64, 81]\n"
     ]
    }
   ],
   "source": [
    "### Basic List Comprehension\n",
    "\n",
    "square=[num**2 for num in range(10)]\n",
    "print(square)\n"
   ]
  },
  {
   "cell_type": "code",
   "execution_count": 48,
   "metadata": {},
   "outputs": [
    {
     "name": "stdout",
     "output_type": "stream",
     "text": [
      "[0, 2, 4, 6, 8]\n"
     ]
    }
   ],
   "source": [
    "## List Comprhenesionn w/ Condition\n",
    "\n",
    "lst=[]\n",
    "for i in range(10):\n",
    "    if i % 2 == 0:\n",
    "        lst.append(i)\n",
    "print(lst)"
   ]
  },
  {
   "cell_type": "code",
   "execution_count": 49,
   "metadata": {},
   "outputs": [
    {
     "data": {
      "text/plain": [
       "[0, 2, 4, 6, 8]"
      ]
     },
     "execution_count": 49,
     "metadata": {},
     "output_type": "execute_result"
    }
   ],
   "source": [
    "[num for num in range(10) if num%2==0]"
   ]
  },
  {
   "cell_type": "code",
   "execution_count": null,
   "metadata": {},
   "outputs": [
    {
     "name": "stdout",
     "output_type": "stream",
     "text": [
      "[[1, 'a'], [1, 'b'], [1, 'c'], [1, 'd'], [2, 'a'], [2, 'b'], [2, 'c'], [2, 'd'], [3, 'a'], [3, 'b'], [3, 'c'], [3, 'd'], [4, 'a'], [4, 'b'], [4, 'c'], [4, 'd']] "
     ]
    }
   ],
   "source": [
    "## Nested list Comprehensionn\n",
    "\n",
    "lst1 = [1,2,3,4]\n",
    "list2 = [\"a\",\"b\",\"c\",\"d\"]\n",
    "\n",
    "pair =  [[i,j] for i in lst1 for j in list2]\n",
    "print(pair)\n"
   ]
  },
  {
   "cell_type": "code",
   "execution_count": 54,
   "metadata": {},
   "outputs": [
    {
     "name": "stdout",
     "output_type": "stream",
     "text": [
      "[5, 7, 8]\n"
     ]
    }
   ],
   "source": [
    "## List Comprehensionn w/ Function Calls\n",
    "\n",
    "words=[\"Hello\",\"My Name\", \"is Raffa\"]\n",
    "lengths=[len(word) for word in words]\n",
    "print(lengths)"
   ]
  },
  {
   "cell_type": "code",
   "execution_count": 12,
   "metadata": {},
   "outputs": [
    {
     "data": {
      "text/plain": [
       "'A'"
      ]
     },
     "execution_count": 12,
     "metadata": {},
     "output_type": "execute_result"
    }
   ],
   "source": [
    "data = 65\n",
    "chr(data)"
   ]
  },
  {
   "cell_type": "markdown",
   "metadata": {},
   "source": [
    "### LIST CONSTRUCTOR"
   ]
  },
  {
   "cell_type": "code",
   "execution_count": 1,
   "metadata": {},
   "outputs": [
    {
     "name": "stdout",
     "output_type": "stream",
     "text": [
      "['apple', 'banana', 'cherry']\n"
     ]
    }
   ],
   "source": [
    "thislist = list((\"apple\", \"banana\", \"cherry\")) # note the double round-brackets\n",
    "print(thislist)\n",
    "\n",
    "# HARUS MENGGUNAKAN DOUBLE ROUND-BRACKETS"
   ]
  },
  {
   "cell_type": "markdown",
   "metadata": {},
   "source": [
    "### INSERT, APPEND, EXTEND, REMOVE, POP"
   ]
  },
  {
   "cell_type": "code",
   "execution_count": 15,
   "metadata": {},
   "outputs": [
    {
     "name": "stdout",
     "output_type": "stream",
     "text": [
      "['BMW', 'Nissan GTR', 'Supra']\n",
      "['BMW', 'Avanza', 'Nissan GTR', 'Supra']\n",
      "['BMW', 'Avanza', 'Nissan GTR', 'Supra', 'Ayla']\n",
      "['BMW', 'Avanza', 'Nissan GTR', 'Supra', 'Ayla', 'Mulyo', 'Budiman']\n",
      "['BMW', 'Avanza', 'Nissan GTR', 'Supra', 'Ayla', 'Mulyo', 'Budiman', 'Vario']\n",
      "['Avanza', 'Nissan GTR', 'Supra', 'Ayla', 'Mulyo', 'Budiman', 'Vario']\n",
      "['Avanza', 'Supra', 'Ayla', 'Mulyo', 'Budiman', 'Vario']\n",
      "['Avanza', 'Supra', 'Ayla', 'Mulyo', 'Budiman']\n",
      "['Avanza', 'Ayla', 'Mulyo', 'Budiman']\n",
      "[]\n"
     ]
    }
   ],
   "source": [
    "mobil = list((\"BMW\",\"Nissan GTR\",\"Supra\"))\n",
    "bus = [\"Mulyo\", \"Budiman\"]\n",
    "motor = (\"Vario\",)\n",
    "print(mobil)\n",
    "\n",
    "mobil.insert(1,\"Avanza\") # menambahkan list baru bebas dimanapun\n",
    "print(mobil)\n",
    "\n",
    "mobil.append(\"Ayla\") # menambahkan list baru di akhir list\n",
    "print(mobil)\n",
    "\n",
    "mobil.extend(bus) # menambahkan list baru dari variabel list yang sudah ada ke akhir daftar list\n",
    "print(mobil)\n",
    "\n",
    "mobil.extend(motor) # menambahkan list baru dari tuple \n",
    "print(mobil)\n",
    "\n",
    "mobil.remove(\"BMW\") #menghapus list 'BMW' secara spesifik\n",
    "print(mobil)\n",
    "\n",
    "mobil.pop(1) # menghapus index secara spesifik\n",
    "print(mobil)\n",
    "\n",
    "mobil.pop() # menghapus list paling akhir\n",
    "print(mobil)\n",
    "\n",
    "del mobil[1] # menghapus spesifik index\n",
    "print(mobil)\n",
    "\n",
    "# del mobil (menhapus seluruh isi list)\n",
    "\n",
    "mobil.clear() # membersihkan tampilan list\n",
    "print(mobil)\n"
   ]
  },
  {
   "cell_type": "markdown",
   "metadata": {},
   "source": [
    "### JOIN DAN SPLIT"
   ]
  },
  {
   "cell_type": "code",
   "execution_count": 5,
   "metadata": {},
   "outputs": [
    {
     "name": "stdout",
     "output_type": "stream",
     "text": [
      "['aku', 'suka', 'cendol']\n",
      "aku suka cendol\n",
      "['akugasukakopiitem']\n"
     ]
    }
   ],
   "source": [
    "## Penggabungan komponen join & split\n",
    "\n",
    "pisah = [\"aku\",\"suka\",\"cendol\"]\n",
    "gabungan = \" \".join(pisah)\n",
    "print(pisah)\n",
    "print(gabungan)\n",
    "\n",
    "\n",
    "\n",
    "satuan = \"akugasukakopiitem\"\n",
    "print(satuan.split(\"rorr\"))"
   ]
  },
  {
   "cell_type": "code",
   "execution_count": 33,
   "metadata": {},
   "outputs": [
    {
     "name": "stdout",
     "output_type": "stream",
     "text": [
      "['akugasukakopiitem']\n"
     ]
    }
   ],
   "source": [
    "satuan = \"akugasukakopiitem\"\n",
    "print(satuan.split(\"rorr\"))"
   ]
  },
  {
   "cell_type": "code",
   "execution_count": 43,
   "metadata": {},
   "outputs": [
    {
     "name": "stdout",
     "output_type": "stream",
     "text": [
      "'     Kanan'\n",
      "'Kiri      '\n",
      "'==Tengah=='\n"
     ]
    }
   ],
   "source": [
    "## ALOKASI KARAKTER\n",
    "\n",
    "\n",
    "kanan = \"Kanan\".rjust(10) #rata kanan\n",
    "print(\"'\"+kanan+\"'\")\n",
    "kiri = \"Kiri\".ljust(10) # rata kiri\n",
    "print(\"'\"+kiri+\"'\")\n",
    "tengah = \"Tengah\".center(10,\"=\") # rata tengah\n",
    "print(\"'\"+tengah+\"'\")"
   ]
  },
  {
   "cell_type": "code",
   "execution_count": null,
   "metadata": {},
   "outputs": [
    {
     "name": "stdout",
     "output_type": "stream",
     "text": [
      "('Raffa', 1, 5)\n",
      "['aku', 2]\n"
     ]
    }
   ],
   "source": [
    "## TUPLE\n",
    "\n",
    "tuple = (\"Raffa\",1,5)\n",
    "print(tuple)\n",
    "\n",
    "tuple[0] = \"Aku\" # tidak bisa diubah"
   ]
  },
  {
   "cell_type": "code",
   "execution_count": 4,
   "metadata": {},
   "outputs": [
    {
     "name": "stdout",
     "output_type": "stream",
     "text": [
      "Prabowo Aguan Bahlil Fufufafu "
     ]
    }
   ],
   "source": [
    "## LOOPING IN LIST\n",
    "\n",
    "kabinetx = [\"Prabowo\",\"Aguan\",\"Bahlil\",\"Fufufafu\"]\n",
    "\n",
    "for i in range(len(kabinetx)):\n",
    "    print(kabinetx[i],end=\" \")"
   ]
  },
  {
   "cell_type": "code",
   "execution_count": 22,
   "metadata": {},
   "outputs": [
    {
     "name": "stdout",
     "output_type": "stream",
     "text": [
      "['Prabowo', 'Aguan', 'Bahlil', 'Fufufafu']\n"
     ]
    }
   ],
   "source": [
    "## LIST COMPREHENSION\n",
    "\n",
    "kabinetx = [\"Prabowo\",\"aguan\",\"Bahlil\",\"fufufafu\"]\n",
    "listx=[i.capitalize() for i in kabinetx if \"a\" in  i]\n",
    "print(listx)"
   ]
  },
  {
   "cell_type": "code",
   "execution_count": 30,
   "metadata": {},
   "outputs": [
    {
     "name": "stdout",
     "output_type": "stream",
     "text": [
      "[3, 2, 7, 4, 9]\n"
     ]
    }
   ],
   "source": [
    "bilangan = [3,1,2,7,4,9]\n",
    "genap = [i for i in bilangan if i!=1]\n",
    "print(genap)"
   ]
  },
  {
   "cell_type": "code",
   "execution_count": 35,
   "metadata": {},
   "outputs": [
    {
     "name": "stdout",
     "output_type": "stream",
     "text": [
      "['Prabowo', 'aguan', 'Bahlil', 'fufufafu']\n"
     ]
    }
   ],
   "source": [
    "angka = [x for x in kabinetx]\n",
    "print(angka)"
   ]
  },
  {
   "cell_type": "code",
   "execution_count": 41,
   "metadata": {},
   "outputs": [
    {
     "name": "stdout",
     "output_type": "stream",
     "text": [
      "['Hello Prabowo', 'Hello aguan', 'Hello Bahlil', 'Hello fufufafu']\n"
     ]
    }
   ],
   "source": [
    "angka = [\"Hello \"+ i for i in kabinetx]\n",
    "print(angka)"
   ]
  },
  {
   "cell_type": "markdown",
   "metadata": {},
   "source": [
    "### SORT LIST"
   ]
  },
  {
   "cell_type": "code",
   "execution_count": 49,
   "metadata": {},
   "outputs": [
    {
     "name": "stdout",
     "output_type": "stream",
     "text": [
      "['pisang', 'naga', 'melon', 'kelengkeng', 'anggur']\n"
     ]
    }
   ],
   "source": [
    "buah=[\"anggur\",\"naga\",\"pisang\",\"kelengkeng\",\"melon\"]\n",
    "buah.sort(reverse=True)\n",
    "print(buah)"
   ]
  },
  {
   "cell_type": "code",
   "execution_count": 53,
   "metadata": {},
   "outputs": [
    {
     "name": "stdout",
     "output_type": "stream",
     "text": [
      "[100, 82, 65, 50, 23]\n"
     ]
    }
   ],
   "source": [
    "## Descending\n",
    "\n",
    "thislist = [100, 50, 65, 82, 23]\n",
    "thislist.sort(reverse=True)\n",
    "print(thislist)"
   ]
  },
  {
   "cell_type": "code",
   "execution_count": 54,
   "metadata": {},
   "outputs": [
    {
     "name": "stdout",
     "output_type": "stream",
     "text": [
      "[23, 50, 65, 82, 100]\n"
     ]
    }
   ],
   "source": [
    "## Ascending\n",
    "\n",
    "thislist = [100, 50, 65, 82, 23]\n",
    "thislist.sort()\n",
    "print(thislist)"
   ]
  },
  {
   "cell_type": "code",
   "execution_count": 56,
   "metadata": {},
   "outputs": [
    {
     "name": "stdout",
     "output_type": "stream",
     "text": [
      "[50, 65, 23, 82, 100]\n"
     ]
    }
   ],
   "source": [
    "## Customize sort function\n",
    "\n",
    "def myfunc(n):\n",
    "  return abs(n - 50)\n",
    "\n",
    "thislist = [100, 50, 65, 82, 23]\n",
    "thislist.sort(key = myfunc)\n",
    "print(thislist)"
   ]
  },
  {
   "cell_type": "code",
   "execution_count": 63,
   "metadata": {},
   "outputs": [
    {
     "name": "stdout",
     "output_type": "stream",
     "text": [
      "['anggur', 'kelengkeng', 'melon', 'naga', 'pisang']\n"
     ]
    }
   ],
   "source": [
    "## Case-Insensitive\n",
    "buah=[\"anggur\",\"naga\",\"pisang\",\"kelengkeng\",\"melon\"]\n",
    "buah.sort(key = str.upper)\n",
    "print(buah)"
   ]
  },
  {
   "cell_type": "markdown",
   "metadata": {},
   "source": [
    "### COPY LIST"
   ]
  },
  {
   "cell_type": "code",
   "execution_count": 64,
   "metadata": {},
   "outputs": [
    {
     "name": "stdout",
     "output_type": "stream",
     "text": [
      "['anggur', 'naga', 'pisang', 'kelengkeng', 'melon']\n"
     ]
    }
   ],
   "source": [
    "## COPY\n",
    "buah=[\"anggur\",\"naga\",\"pisang\",\"kelengkeng\",\"melon\"]\n",
    "sariBuah = buah.copy()\n",
    "print(sariBuah)"
   ]
  },
  {
   "cell_type": "code",
   "execution_count": 65,
   "metadata": {},
   "outputs": [
    {
     "name": "stdout",
     "output_type": "stream",
     "text": [
      "['anggur', 'naga', 'pisang', 'kelengkeng', 'melon']\n"
     ]
    }
   ],
   "source": [
    "## LIST\n",
    "buah=[\"anggur\",\"naga\",\"pisang\",\"kelengkeng\",\"melon\"]\n",
    "sariBuah = list(buah)\n",
    "print(sariBuah)"
   ]
  },
  {
   "cell_type": "code",
   "execution_count": 66,
   "metadata": {},
   "outputs": [
    {
     "name": "stdout",
     "output_type": "stream",
     "text": [
      "['anggur', 'naga', 'pisang', 'kelengkeng', 'melon']\n"
     ]
    }
   ],
   "source": [
    "## SLICE\n",
    "buah=[\"anggur\",\"naga\",\"pisang\",\"kelengkeng\",\"melon\"]\n",
    "sariBuah = buah[:]\n",
    "print(sariBuah)"
   ]
  },
  {
   "cell_type": "markdown",
   "metadata": {},
   "source": [
    "### JOIN LIST"
   ]
  },
  {
   "cell_type": "code",
   "execution_count": 67,
   "metadata": {},
   "outputs": [
    {
     "name": "stdout",
     "output_type": "stream",
     "text": [
      "['a', 'b', 'c', 1, 2, 3]\n"
     ]
    }
   ],
   "source": [
    "## Menggunakan operator +\n",
    "list1 = [\"a\", \"b\", \"c\"]\n",
    "list2 = [1, 2, 3]\n",
    "\n",
    "list3 = list1 + list2\n",
    "print(list3)"
   ]
  },
  {
   "cell_type": "code",
   "execution_count": 71,
   "metadata": {},
   "outputs": [
    {
     "name": "stdout",
     "output_type": "stream",
     "text": [
      "['a', 'b', 'c', 1, 2, 3]\n"
     ]
    }
   ],
   "source": [
    "## Append\n",
    "\n",
    "list1 = [\"a\", \"b\", \"c\"]\n",
    "list2 = [1, 2, 3]\n",
    "\n",
    "for i in list2:\n",
    "    list1.append(i)\n",
    "\n",
    "print(list1)\n"
   ]
  },
  {
   "cell_type": "code",
   "execution_count": 77,
   "metadata": {},
   "outputs": [
    {
     "name": "stdout",
     "output_type": "stream",
     "text": [
      "['a', 'b', 'c', 1, 2, 3]\n"
     ]
    }
   ],
   "source": [
    "## Extend\n",
    "\n",
    "list1 = [\"a\", \"b\", \"c\"]\n",
    "list2 = [1, 2, 3]\n",
    "\n",
    "list1.extend(list2)\n",
    "\n",
    "print(list1)"
   ]
  },
  {
   "cell_type": "code",
   "execution_count": null,
   "metadata": {},
   "outputs": [],
   "source": []
  }
 ],
 "metadata": {
  "kernelspec": {
   "display_name": "Python 3",
   "language": "python",
   "name": "python3"
  },
  "language_info": {
   "codemirror_mode": {
    "name": "ipython",
    "version": 3
   },
   "file_extension": ".py",
   "mimetype": "text/x-python",
   "name": "python",
   "nbconvert_exporter": "python",
   "pygments_lexer": "ipython3",
   "version": "3.12.0"
  }
 },
 "nbformat": 4,
 "nbformat_minor": 2
}
