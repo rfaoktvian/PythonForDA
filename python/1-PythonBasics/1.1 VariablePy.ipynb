{
 "cells": [
  {
   "cell_type": "markdown",
   "metadata": {},
   "source": [
    "### Variable in Python"
   ]
  },
  {
   "cell_type": "markdown",
   "metadata": {},
   "source": [
    "Variabel adalah tempat untuk menyimpan data atau nilai yang dapat digunakan dalam program. Variabel memungkinkan kita untuk memberi nama pada data agar lebih mudah dikelola dan digunakan"
   ]
  },
  {
   "cell_type": "code",
   "execution_count": 1,
   "metadata": {},
   "outputs": [
    {
     "name": "stdout",
     "output_type": "stream",
     "text": [
      "My Age: 32\n",
      "My Height: 6.1\n",
      "My Name: Raffa\n",
      "True\n"
     ]
    }
   ],
   "source": [
    "### Declaring and Assigning Variables\n",
    "\n",
    "age =32\n",
    "hegiht = 6.1\n",
    "name=\"Raffa\"\n",
    "is_student = True\n",
    "\n",
    "## Menampilkan variable\n",
    "\n",
    "print(\"My Age:\",age)\n",
    "print(\"My Height:\",hegiht)\n",
    "print(\"My Name:\",name)\n",
    "print(is_student)"
   ]
  },
  {
   "cell_type": "code",
   "execution_count": 7,
   "metadata": {},
   "outputs": [
    {
     "name": "stdout",
     "output_type": "stream",
     "text": [
      "Raffa\n"
     ]
    }
   ],
   "source": [
    "## Naming Converstations\n",
    "## Variables Names Must be Descriptive\n",
    "## They must start wihth a letter or an '_' and contains letter,numbers and undescores\n",
    "## Variables names case sensitive\n",
    "\n",
    "## Valid Variable Names\n",
    "namaku=\"raffa\"\n",
    "_namaku=\"Raffa\"\n",
    "\n",
    "## Invalide Variables\n",
    "2nama=\"raffa\"\n",
    "\n",
    "print(_namaku)"
   ]
  },
  {
   "cell_type": "code",
   "execution_count": 21,
   "metadata": {},
   "outputs": [
    {
     "name": "stdout",
     "output_type": "stream",
     "text": [
      "<class 'int'>\n",
      "25\n",
      "<class 'str'>\n",
      "<class 'float'>\n",
      "6\n",
      "<class 'int'>\n"
     ]
    }
   ],
   "source": [
    "## Konversi Tipe Data\n",
    "\n",
    "age=25\n",
    "print(type(age))\n",
    "\n",
    "## int to string\n",
    "age_str=str(age)\n",
    "print(age_str)\n",
    "print(type(age_str))\n",
    "\n",
    "\n",
    "## Float to Int\n",
    "hegiht = 6.11\n",
    "print(type(hegiht))\n",
    "\n",
    "hegiht_int = int(hegiht)\n",
    "print(hegiht_int)\n",
    "print(type(hegiht_int))"
   ]
  },
  {
   "cell_type": "code",
   "execution_count": 23,
   "metadata": {},
   "outputs": [
    {
     "name": "stdout",
     "output_type": "stream",
     "text": [
      "10 <class 'int'>\n",
      "Raffa <class 'str'>\n",
      "3.14 <class 'float'>\n"
     ]
    }
   ],
   "source": [
    "## Dynamic Typing\n",
    "## Python mengizinkan untuk mengganti isi dan tipe data variabel yang ada\n",
    "\n",
    "var=10\n",
    "print(var,type(var))\n",
    "\n",
    "var=\"Raffa\"\n",
    "print(var,type(var))\n",
    "\n",
    "var=3.14\n",
    "print(var,type(var))"
   ]
  },
  {
   "cell_type": "code",
   "execution_count": 28,
   "metadata": {},
   "outputs": [
    {
     "name": "stdout",
     "output_type": "stream",
     "text": [
      "21 <class 'int'>\n"
     ]
    }
   ],
   "source": [
    "## Input\n",
    "\n",
    "age = int(input(\"Input my age\"))\n",
    "print(age,type(age))"
   ]
  },
  {
   "cell_type": "code",
   "execution_count": 31,
   "metadata": {},
   "outputs": [
    {
     "name": "stdout",
     "output_type": "stream",
     "text": [
      "Sum:  25\n",
      "Difference:  15\n",
      "Product:  100\n",
      "Quotient:  4.0\n"
     ]
    }
   ],
   "source": [
    "## Simple Calculator\n",
    "\n",
    "num1 = int(input(\"Masukkan Bilangan Pertama\"))\n",
    "num2 = int(input(\"Masukkan Bilangan Kedua\"))\n",
    "\n",
    "sum = num1 + num2\n",
    "difference = num1 - num2\n",
    "product = num1 * num2\n",
    "quotient = num1/num2\n",
    "\n",
    "print(\"Sum: \",sum)\n",
    "print(\"Difference: \",difference)\n",
    "print(\"Product: \",product)\n",
    "print(\"Quotient: \",quotient)\n"
   ]
  },
  {
   "cell_type": "code",
   "execution_count": null,
   "metadata": {},
   "outputs": [],
   "source": []
  },
  {
   "cell_type": "code",
   "execution_count": null,
   "metadata": {},
   "outputs": [],
   "source": []
  }
 ],
 "metadata": {
  "kernelspec": {
   "display_name": "venv",
   "language": "python",
   "name": "python3"
  },
  "language_info": {
   "codemirror_mode": {
    "name": "ipython",
    "version": 3
   },
   "file_extension": ".py",
   "mimetype": "text/x-python",
   "name": "python",
   "nbconvert_exporter": "python",
   "pygments_lexer": "ipython3",
   "version": "3.12.0"
  }
 },
 "nbformat": 4,
 "nbformat_minor": 2
}
