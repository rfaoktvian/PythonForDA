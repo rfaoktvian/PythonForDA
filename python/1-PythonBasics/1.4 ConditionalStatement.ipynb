{
 "cells": [
  {
   "cell_type": "markdown",
   "metadata": {},
   "source": [
    "### CONDITIONAL STATEMENT"
   ]
  },
  {
   "cell_type": "code",
   "execution_count": 1,
   "metadata": {},
   "outputs": [
    {
     "name": "stdout",
     "output_type": "stream",
     "text": [
      "Orang Tuaa\n"
     ]
    }
   ],
   "source": [
    "## IF STATEMENT\n",
    "\n",
    "age = 25\n",
    "\n",
    "if age>= 25:\n",
    "    print(\"Orang Tuaa\")\n",
    "else:\n",
    "    print(\"Jeh nom\")    "
   ]
  },
  {
   "cell_type": "markdown",
   "metadata": {},
   "source": []
  }
 ],
 "metadata": {
  "kernelspec": {
   "display_name": "venv",
   "language": "python",
   "name": "python3"
  },
  "language_info": {
   "codemirror_mode": {
    "name": "ipython",
    "version": 3
   },
   "file_extension": ".py",
   "mimetype": "text/x-python",
   "name": "python",
   "nbconvert_exporter": "python",
   "pygments_lexer": "ipython3",
   "version": "3.12.0"
  }
 },
 "nbformat": 4,
 "nbformat_minor": 2
}
