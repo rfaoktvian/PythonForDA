{
 "cells": [
  {
   "cell_type": "markdown",
   "metadata": {},
   "source": [
    "### BASIC SYNTAX RULES IN PYTHON"
   ]
  },
  {
   "cell_type": "code",
   "execution_count": 8,
   "metadata": {},
   "outputs": [
    {
     "name": "stdout",
     "output_type": "stream",
     "text": [
      "rafa\n",
      "Nuz\n"
     ]
    }
   ],
   "source": [
    "## Basic Syntax Rules in Pyhton\n",
    "## CASE SENSITIVITY-Python is case sensitive\n",
    "\n",
    "name = \"rafa\"\n",
    "Name = \"Nuz\"\n",
    "\n",
    "print(name)\n",
    "print(Name)"
   ]
  },
  {
   "cell_type": "markdown",
   "metadata": {},
   "source": [
    "### Indentation Definition\n",
    "Indentation adalah cara Python menggunakan spasi atau tab untuk menandai blok kode. Tidak seperti banyak bahasa pemrograman lain yang menggunakan tanda kurung ({}) untuk mengelompokkan blok kode, Python mengandalkan indentasi untuk menentukan hierarki atau struktur program."
   ]
  },
  {
   "cell_type": "code",
   "execution_count": 14,
   "metadata": {},
   "outputs": [
    {
     "name": "stdout",
     "output_type": "stream",
     "text": [
      "32\n",
      "32\n"
     ]
    }
   ],
   "source": [
    "## Indentation\n",
    "## Python uses indentation to define blocks of code. Consistent use of spaces (commonly 4) or a tab is required\n",
    "\n",
    "age=32\n",
    "if age>30:\n",
    "    print(age)\n",
    "\n",
    "print(age)\n"
   ]
  },
  {
   "cell_type": "code",
   "execution_count": 15,
   "metadata": {},
   "outputs": [
    {
     "name": "stdout",
     "output_type": "stream",
     "text": [
      "Hello World\n"
     ]
    }
   ],
   "source": [
    "## Ini merupakan contoh single line comment\n",
    "\n",
    "print(\"Hello World\")"
   ]
  },
  {
   "cell_type": "code",
   "execution_count": 18,
   "metadata": {},
   "outputs": [
    {
     "name": "stdout",
     "output_type": "stream",
     "text": [
      "28\n"
     ]
    }
   ],
   "source": [
    "## Line Continuation\n",
    "## Gunakan backslash (\\) untuk melanjutkan command di baris selanjutnya\n",
    "\n",
    "total=1+2+3+4+5+\\\n",
    "6+7\n",
    "\n",
    "print(total)"
   ]
  },
  {
   "cell_type": "code",
   "execution_count": 20,
   "metadata": {},
   "outputs": [
    {
     "name": "stdout",
     "output_type": "stream",
     "text": [
      "15\n"
     ]
    }
   ],
   "source": [
    "## Multiple Statement on a Single Line\n",
    "\n",
    "x=5;y=10;z=y+x\n",
    "print(z)"
   ]
  },
  {
   "cell_type": "code",
   "execution_count": null,
   "metadata": {},
   "outputs": [],
   "source": [
    "## Understand Semantic in Python\n",
    "# Variable Assignment (Program akan menganalisis tipe data sesuai dengan inputan)\n",
    "age=32 ##age is integer\n",
    "name=\"raffa\" ## name is a string"
   ]
  },
  {
   "cell_type": "code",
   "execution_count": 21,
   "metadata": {},
   "outputs": [
    {
     "data": {
      "text/plain": [
       "int"
      ]
     },
     "execution_count": 21,
     "metadata": {},
     "output_type": "execute_result"
    }
   ],
   "source": [
    "type(age)"
   ]
  },
  {
   "cell_type": "code",
   "execution_count": 22,
   "metadata": {},
   "outputs": [
    {
     "data": {
      "text/plain": [
       "str"
      ]
     },
     "execution_count": 22,
     "metadata": {},
     "output_type": "execute_result"
    }
   ],
   "source": [
    "type(name)"
   ]
  },
  {
   "cell_type": "code",
   "execution_count": 25,
   "metadata": {},
   "outputs": [
    {
     "name": "stdout",
     "output_type": "stream",
     "text": [
      "<class 'int'>\n",
      "<class 'str'>\n"
     ]
    }
   ],
   "source": [
    "## Type Inference\n",
    "\n",
    "v =10\n",
    "print(type(v))\n",
    "v = \"Raffa\"\n",
    "print(type(v))"
   ]
  },
  {
   "cell_type": "code",
   "execution_count": 31,
   "metadata": {},
   "outputs": [
    {
     "name": "stdout",
     "output_type": "stream",
     "text": [
      "tampilkan 1\n",
      "Tampilkan 3\n",
      "Tampilkan 4\n"
     ]
    }
   ],
   "source": [
    "## Contoh Indentation\n",
    "if True:\n",
    "    print(\"tampilkan 1\")\n",
    "    if False:\n",
    "        print(\"Tampilkan 2\")\n",
    "    print(\"Tampilkan 3\")\n",
    "print(\"Tampilkan 4\")        "
   ]
  },
  {
   "cell_type": "markdown",
   "metadata": {},
   "source": [
    "### STRINGG"
   ]
  },
  {
   "cell_type": "code",
   "execution_count": 3,
   "metadata": {},
   "outputs": [
    {
     "name": "stdout",
     "output_type": "stream",
     "text": [
      "Rafa Koko\n"
     ]
    }
   ],
   "source": [
    "## Menyambung string (Concatenate)\n",
    "\n",
    "\n",
    "nama_awal = \"Rafa\"\n",
    "nama_akhir = \"Koko\"\n",
    "\n",
    "nama_lengkap = nama_awal + \" \"+nama_akhir\n",
    "print(nama_lengkap)\n",
    "\n"
   ]
  },
  {
   "cell_type": "code",
   "execution_count": 5,
   "metadata": {},
   "outputs": [
    {
     "name": "stdout",
     "output_type": "stream",
     "text": [
      "9\n"
     ]
    }
   ],
   "source": [
    "## Menghitung panjang string (len)\n",
    "\n",
    "panjang = len(nama_lengkap)\n",
    "print(panjang)"
   ]
  },
  {
   "cell_type": "code",
   "execution_count": 11,
   "metadata": {},
   "outputs": [
    {
     "data": {
      "text/plain": [
       "'True'"
      ]
     },
     "execution_count": 11,
     "metadata": {},
     "output_type": "execute_result"
    }
   ],
   "source": [
    "## Mengecek komponen\n",
    "\n",
    "d = \"R\"\n",
    "status = d in nama_lengkap\n",
    "str(status)"
   ]
  },
  {
   "cell_type": "code",
   "execution_count": 13,
   "metadata": {},
   "outputs": [
    {
     "name": "stdout",
     "output_type": "stream",
     "text": [
      "Raffa Raffa Raffa Raffa Raffa Raffa Raffa Raffa Raffa Raffa \n"
     ]
    }
   ],
   "source": [
    "print(10*\"Raffa \")"
   ]
  },
  {
   "cell_type": "code",
   "execution_count": 37,
   "metadata": {},
   "outputs": [
    {
     "name": "stdout",
     "output_type": "stream",
     "text": [
      "ASSALAMUALIKUM\n",
      "assalamualikum\n",
      "True\n"
     ]
    }
   ],
   "source": [
    "salam = \"Assalamualikum\"\n",
    "\n",
    "salam = salam.upper() # merubaha ke uppercase\n",
    "print(salam)\n",
    "\n",
    "salam = salam.lower() # merubah ke lowercase\n",
    "print(salam)\n",
    "\n",
    "salam = salam.islower() # Cek apakah lowercase?\n",
    "print(salam)\n"
   ]
  },
  {
   "cell_type": "code",
   "execution_count": 36,
   "metadata": {},
   "outputs": [
    {
     "name": "stdout",
     "output_type": "stream",
     "text": [
      "True\n"
     ]
    }
   ],
   "source": [
    "salam = \"Assalamualikum\"\n",
    "cek = salam.isalpha()\n",
    "print(cek)"
   ]
  },
  {
   "cell_type": "code",
   "execution_count": 40,
   "metadata": {},
   "outputs": [
    {
     "name": "stdout",
     "output_type": "stream",
     "text": [
      "202\n"
     ]
    }
   ],
   "source": [
    "import random\n",
    "\n",
    "acak = random.randrange(100,500)\n",
    "print(acak)"
   ]
  },
  {
   "cell_type": "code",
   "execution_count": null,
   "metadata": {},
   "outputs": [],
   "source": []
  }
 ],
 "metadata": {
  "kernelspec": {
   "display_name": "venv",
   "language": "python",
   "name": "python3"
  },
  "language_info": {
   "codemirror_mode": {
    "name": "ipython",
    "version": 3
   },
   "file_extension": ".py",
   "mimetype": "text/x-python",
   "name": "python",
   "nbconvert_exporter": "python",
   "pygments_lexer": "ipython3",
   "version": "3.12.0"
  }
 },
 "nbformat": 4,
 "nbformat_minor": 2
}
