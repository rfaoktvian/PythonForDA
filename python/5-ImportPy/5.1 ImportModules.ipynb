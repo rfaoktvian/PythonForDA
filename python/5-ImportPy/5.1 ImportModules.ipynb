{
 "cells": [
  {
   "cell_type": "markdown",
   "metadata": {},
   "source": [
    "### IMPORTING MDDULES\n",
    "\n",
    "Dalam Python, importing modul adalah proses membawa kode dari modul atau pustaka eksternal ke dalam program Anda, sehingga Anda dapat menggunakan fungsi, kelas, atau variabel yang sudah tersedia di modul tersebut tanpa perlu menulis ulang kode.\n",
    "\n",
    "Apa itu Modul?\n",
    "Modul adalah file Python yang berisi definisi, fungsi, dan pernyataan Python yang terkait, biasanya berekstensi .py.\n",
    "Modul membantu kita memisahkan kode menjadi file yang lebih kecil dan lebih terorganisasi."
   ]
  },
  {
   "cell_type": "code",
   "execution_count": 1,
   "metadata": {},
   "outputs": [
    {
     "name": "stdout",
     "output_type": "stream",
     "text": [
      "4.0\n",
      "=====================================\n",
      "4.0\n",
      "3.141592653589793\n"
     ]
    }
   ],
   "source": [
    "## Default Importing Modules\n",
    "## import - modules name\n",
    "\n",
    "import math # module math use to mathmatical operation\n",
    "print(math.sqrt(16))\n",
    "\n",
    "\n",
    "print(\"=====================================\")\n",
    "\n",
    "## And also we can import specific function from module\n",
    "\n",
    "from math import sqrt,pi # import sqrt function from math module\n",
    "print(sqrt(16))\n",
    "print(pi)"
   ]
  },
  {
   "cell_type": "code",
   "execution_count": 2,
   "metadata": {},
   "outputs": [
    {
     "data": {
      "text/plain": [
       "array([1, 2, 3, 4, 5])"
      ]
     },
     "execution_count": 2,
     "metadata": {},
     "output_type": "execute_result"
    }
   ],
   "source": [
    "import numpy as np # import numpy module as np\n",
    "np.array([1,2,3,4,5])"
   ]
  },
  {
   "cell_type": "code",
   "execution_count": 3,
   "metadata": {},
   "outputs": [
    {
     "data": {
      "text/plain": [
       "4.0"
      ]
     },
     "execution_count": 3,
     "metadata": {},
     "output_type": "execute_result"
    }
   ],
   "source": [
    "from math import* # import all function from math module\n",
    "sqrt(16)"
   ]
  },
  {
   "cell_type": "code",
   "execution_count": 4,
   "metadata": {},
   "outputs": [
    {
     "name": "stdout",
     "output_type": "stream",
     "text": [
      "30\n"
     ]
    }
   ],
   "source": [
    "from package.maths import addition # import addition function from math module\n",
    "print(addition(10,20))"
   ]
  },
  {
   "cell_type": "code",
   "execution_count": 3,
   "metadata": {},
   "outputs": [
    {
     "data": {
      "text/plain": [
       "40"
      ]
     },
     "execution_count": 3,
     "metadata": {},
     "output_type": "execute_result"
    }
   ],
   "source": [
    "from package import maths   # import math module from package\n",
    "maths.addition(20,20)"
   ]
  },
  {
   "cell_type": "code",
   "execution_count": 3,
   "metadata": {},
   "outputs": [
    {
     "data": {
      "text/plain": [
       "10"
      ]
     },
     "execution_count": 3,
     "metadata": {},
     "output_type": "execute_result"
    }
   ],
   "source": [
    "import package.maths as m # import math module from package as m\n",
    "m.substraction(20,10)"
   ]
  },
  {
   "cell_type": "code",
   "execution_count": null,
   "metadata": {},
   "outputs": [],
   "source": []
  }
 ],
 "metadata": {
  "kernelspec": {
   "display_name": "Python 3",
   "language": "python",
   "name": "python3"
  },
  "language_info": {
   "codemirror_mode": {
    "name": "ipython",
    "version": 3
   },
   "file_extension": ".py",
   "mimetype": "text/x-python",
   "name": "python",
   "nbconvert_exporter": "python",
   "pygments_lexer": "ipython3",
   "version": "3.12.0"
  }
 },
 "nbformat": 4,
 "nbformat_minor": 2
}
