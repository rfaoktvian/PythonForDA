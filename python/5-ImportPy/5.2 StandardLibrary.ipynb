{
 "cells": [
  {
   "cell_type": "markdown",
   "metadata": {},
   "source": [
    "### STANDARD LIBRARY IN PYTHON\n",
    "\n",
    "Standard Library Python adalah kumpulan modul yang disediakan secara bawaan oleh Python. Modul-modul ini berisi berbagai fungsi, kelas, dan objek yang membantu mempermudah pengembangan aplikasi tanpa perlu menginstal pustaka eksternal. Standard library Python mencakup berbagai area, seperti manipulasi string, matematika, pengelolaan file, jaringan, pengolahan data, hingga pengembangan web.\n",
    "\n",
    "\n",
    "import os\n",
    "\n",
    "# Mendapatkan direktori kerja saat ini\n",
    "current_directory = os.getcwd()\n",
    "print(f\"Direktori kerja saat ini: {current_directory}\")\n",
    "\n",
    "# Mengubah direktori kerja\n",
    "os.chdir('/path/to/directory')\n",
    "\n",
    "# Mendapatkan daftar file dan direktori dalam direktori saat ini\n",
    "files_and_directories = os.listdir()\n",
    "print(f\"File dan direktori: {files_and_directories}\")\n",
    "\n",
    "# Membuat direktori baru\n",
    "os.mkdir('new_directory')\n",
    "\n",
    "# Menghapus direktori\n",
    "os.rmdir('new_directory')\n",
    "\n",
    "# Menjalankan perintah shell\n",
    "os.system('ls -l')"
   ]
  },
  {
   "cell_type": "code",
   "execution_count": 1,
   "metadata": {},
   "outputs": [
    {
     "data": {
      "text/plain": [
       "4.0"
      ]
     },
     "execution_count": 1,
     "metadata": {},
     "output_type": "execute_result"
    }
   ],
   "source": [
    "## Math Libraries\n",
    "\n",
    "import math\n",
    "from math import sqrt\n",
    "sqrt(16)"
   ]
  },
  {
   "cell_type": "code",
   "execution_count": 6,
   "metadata": {},
   "outputs": [
    {
     "name": "stdout",
     "output_type": "stream",
     "text": [
      "12\n",
      "Pisang\n"
     ]
    }
   ],
   "source": [
    "## Random Libraries\n",
    "\n",
    "import random\n",
    "print(random.randint(1,20))\n",
    "print(random.choice([\"Apel\",\"Pisang\",\"Dukuh\"]))"
   ]
  },
  {
   "cell_type": "code",
   "execution_count": null,
   "metadata": {},
   "outputs": [
    {
     "name": "stdout",
     "output_type": "stream",
     "text": [
      "c:\\Users\\ASUS\\OneDrive - ypt.or.id\\Documents\\Kuliah\\Data Analyst\\python\\5-ImportPy\n"
     ]
    }
   ],
   "source": [
    "## File and Directory Access\n",
    "\n",
    "import os\n",
    "print(os.getcwd())\n",
    "\n",
    "os.mkdir('test.dir') ## membuat direktori baru\n",
    "os.rmdir('test.dir') # menghapus direktori\n"
   ]
  },
  {
   "cell_type": "code",
   "execution_count": null,
   "metadata": {},
   "outputs": [
    {
     "data": {
      "text/plain": [
       "'destination.txt'"
      ]
     },
     "execution_count": 15,
     "metadata": {},
     "output_type": "execute_result"
    }
   ],
   "source": [
    "## High level collections on files and collection of files\n",
    "\n",
    "import shutil\n",
    "shutil.copyfile('source.txt','destination.txt') # mencopy isi file dari source dan membuat dile baru"
   ]
  },
  {
   "cell_type": "code",
   "execution_count": 20,
   "metadata": {},
   "outputs": [
    {
     "name": "stdout",
     "output_type": "stream",
     "text": [
      "{\"name\": \"raffa\", \"kelas\": \"s1si-7b\"} <class 'str'>\n",
      "{'name': 'raffa', 'kelas': 's1si-7b'} <class 'dict'>\n"
     ]
    }
   ],
   "source": [
    "## Data Serialization\n",
    "\n",
    "import json\n",
    "data={'name':'raffa','kelas':'s1si-7b'}\n",
    "\n",
    "json_str = json.dumps(data)\n",
    "print(json_str,type(json_str))\n",
    "\n",
    "\n",
    "parsed_data = json.loads(json_str)\n",
    "print(parsed_data,type(parsed_data))"
   ]
  },
  {
   "cell_type": "code",
   "execution_count": 23,
   "metadata": {},
   "outputs": [
    {
     "name": "stdout",
     "output_type": "stream",
     "text": [
      "['name', 'age']\n",
      "['Raffa', '28']\n"
     ]
    }
   ],
   "source": [
    "## CSV\n",
    "\n",
    "import csv\n",
    "with open('example.csv',mode='w',newline='') as file:\n",
    "    writer = csv.writer(file)\n",
    "    writer.writerow(['name','age'])\n",
    "    writer.writerow(['Raffa','28'])\n",
    "\n",
    "with open ('example.csv',mode='r') as file:\n",
    "    reader = csv.reader(file)\n",
    "    for row in reader:\n",
    "        print(row)\n"
   ]
  },
  {
   "cell_type": "code",
   "execution_count": null,
   "metadata": {},
   "outputs": [
    {
     "name": "stdout",
     "output_type": "stream",
     "text": [
      "2025-02-11 22:19:54.110336\n",
      "2025-02-10 22:19:54.110336\n"
     ]
    }
   ],
   "source": [
    "## Date time\n",
    "\n",
    "from datetime import datetime,timedelta \n",
    "now=datetime.now()\n",
    "print(now)\n",
    "\n",
    "\n",
    "yesterday = now - timedelta(days=1)\n",
    "print(yesterday)\n"
   ]
  },
  {
   "cell_type": "code",
   "execution_count": 27,
   "metadata": {},
   "outputs": [
    {
     "name": "stdout",
     "output_type": "stream",
     "text": [
      "1739287268.0483055\n",
      "1739287270.0497196\n"
     ]
    }
   ],
   "source": [
    "## Time\n",
    "\n",
    "import time\n",
    "print(time.time())\n",
    "time.sleep(2)\n",
    "print(time.time())"
   ]
  },
  {
   "cell_type": "code",
   "execution_count": 31,
   "metadata": {},
   "outputs": [
    {
     "name": "stdout",
     "output_type": "stream",
     "text": [
      "123\n"
     ]
    }
   ],
   "source": [
    "## Regular Expression\n",
    "\n",
    "import re  # Mengimpor library re untuk bekerja dengan regular expression\n",
    "\n",
    "pattern = r'\\d+'  # Pola untuk mencari satu atau lebih digit angka\n",
    "text = 'There ar 123 appless'  # Teks tempat pola akan dicari\n",
    "match = re.search(pattern, text)  # Mencari kemunculan pertama pola dalam teks\n",
    "\n",
    "# Jika pola ditemukan, hasilnya diakses dengan .group() dan ditampilkan\n",
    "print(match.group())  # Output: 123\n"
   ]
  },
  {
   "cell_type": "code",
   "execution_count": null,
   "metadata": {},
   "outputs": [],
   "source": []
  }
 ],
 "metadata": {
  "kernelspec": {
   "display_name": "Python 3",
   "language": "python",
   "name": "python3"
  },
  "language_info": {
   "codemirror_mode": {
    "name": "ipython",
    "version": 3
   },
   "file_extension": ".py",
   "mimetype": "text/x-python",
   "name": "python",
   "nbconvert_exporter": "python",
   "pygments_lexer": "ipython3",
   "version": "3.12.0"
  }
 },
 "nbformat": 4,
 "nbformat_minor": 2
}
