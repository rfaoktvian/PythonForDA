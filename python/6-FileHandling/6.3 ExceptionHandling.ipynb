{
 "cells": [
  {
   "cell_type": "markdown",
   "metadata": {},
   "source": [
    "### EXCEPTION HANDLING IN PYTHON\n",
    "\n",
    "Exception Handling dalam Python adalah mekanisme untuk menangani kesalahan (error) yang terjadi selama eksekusi program. Ketika suatu error terjadi, Python akan menghasilkan (raise) sebuah exception. Jika exception ini tidak ditangani, program akan berhenti secara tiba-tiba (crash). Dengan exception handling, kita dapat mengelola error tersebut sehingga program dapat terus berjalan atau memberikan pesan error yang lebih informatif kepada pengguna.\n",
    "\n",
    "Komponen Utama Exception Handling\n",
    "Exception handling dalam Python menggunakan blok try, except, else, dan finally. Berikut penjelasannya:\n",
    "- try: Blok ini digunakan untuk mengeksekusi kode yang mungkin menghasilkan exception.\n",
    "- except: Blok ini menangkap dan menangani exception yang terjadi di blok try.\n",
    "- else: Blok ini dijalankan jika tidak ada exception yang terjadi di blok try.\n",
    "- finally: Blok ini selalu dijalankan, baik ada exception maupun tidak. Biasanya digunakan untuk membersihkan sumber daya (seperti menutup file).\n",
    "\n",
    "Python memiliki banyak tipe exception bawaan. Beberapa yang umum digunakan:\n",
    "\n",
    "- ZeroDivisionError: Terjadi ketika mencoba membagi angka dengan nol.\n",
    "- ValueError: Terjadi ketika fungsi menerima argumen dengan tipe yang benar tetapi nilai yang tidak valid (misalnya, int(\"abc\")).\n",
    "- TypeError: Terjadi ketika operasi dilakukan pada tipe data yang tidak sesuai (misalnya, mencoba menambahkan string dan integer).\n",
    "- FileNotFoundError: Terjadi ketika mencoba membuka file yang tidak ada.\n",
    "- IndexError: Terjadi ketika mencoba mengakses indeks yang tidak ada dalam list.\n",
    "- KeyError: Terjadi ketika mencoba mengakses key yang tidak ada dalam dictionary.\n",
    "- Exception: Menangkap semua jenis exception (tidak disarankan kecuali benar-benar diperlukan)."
   ]
  },
  {
   "cell_type": "code",
   "execution_count": 2,
   "metadata": {},
   "outputs": [
    {
     "name": "stdout",
     "output_type": "stream",
     "text": [
      "The variable is doesnt exist\n"
     ]
    }
   ],
   "source": [
    "## Exception try, except block\n",
    "\n",
    "try:\n",
    "    a=b\n",
    "except:\n",
    "    print(\"The variable is doesnt exist\")"
   ]
  },
  {
   "cell_type": "code",
   "execution_count": 3,
   "metadata": {},
   "outputs": [
    {
     "ename": "NameError",
     "evalue": "name 'b' is not defined",
     "output_type": "error",
     "traceback": [
      "\u001b[1;31m---------------------------------------------------------------------------\u001b[0m",
      "\u001b[1;31mNameError\u001b[0m                                 Traceback (most recent call last)",
      "Cell \u001b[1;32mIn[3], line 1\u001b[0m\n\u001b[1;32m----> 1\u001b[0m a \u001b[38;5;241m=\u001b[39m \u001b[43mb\u001b[49m\n",
      "\u001b[1;31mNameError\u001b[0m: name 'b' is not defined"
     ]
    }
   ],
   "source": [
    "a = b"
   ]
  },
  {
   "cell_type": "code",
   "execution_count": 4,
   "metadata": {},
   "outputs": [
    {
     "name": "stdout",
     "output_type": "stream",
     "text": [
      "name 'b' is not defined\n"
     ]
    }
   ],
   "source": [
    "try:\n",
    "    a=b\n",
    "except NameError as ex:\n",
    "    print(ex)"
   ]
  },
  {
   "cell_type": "code",
   "execution_count": 15,
   "metadata": {},
   "outputs": [
    {
     "ename": "ZeroDivisionError",
     "evalue": "division by zero",
     "output_type": "error",
     "traceback": [
      "\u001b[1;31m---------------------------------------------------------------------------\u001b[0m",
      "\u001b[1;31mZeroDivisionError\u001b[0m                         Traceback (most recent call last)",
      "Cell \u001b[1;32mIn[15], line 1\u001b[0m\n\u001b[1;32m----> 1\u001b[0m result \u001b[38;5;241m=\u001b[39m \u001b[38;5;241;43m1\u001b[39;49m\u001b[38;5;241;43m/\u001b[39;49m\u001b[38;5;241;43m0\u001b[39;49m\n",
      "\u001b[1;31mZeroDivisionError\u001b[0m: division by zero"
     ]
    }
   ],
   "source": [
    "result = 1/0"
   ]
  },
  {
   "cell_type": "code",
   "execution_count": null,
   "metadata": {},
   "outputs": [
    {
     "name": "stdout",
     "output_type": "stream",
     "text": [
      "division by zero\n",
      "Please enter the denominator greater than 0\n"
     ]
    }
   ],
   "source": [
    "## Zero Division Error\n",
    "\n",
    "try:\n",
    "    result = 1/0\n",
    "except ZeroDivisionError as z:\n",
    "    print(z)\n",
    "    print(\"Please enter the denominator greater than 0\")"
   ]
  },
  {
   "cell_type": "code",
   "execution_count": 14,
   "metadata": {},
   "outputs": [
    {
     "name": "stdout",
     "output_type": "stream",
     "text": [
      "name 'b' is not defined\n",
      "Main exception get caugh here\n"
     ]
    }
   ],
   "source": [
    "## Exception\n",
    "\n",
    "try:\n",
    "    result = 1/2\n",
    "    a=b\n",
    "except ZeroDivisionError as z:\n",
    "    print(z)\n",
    "    print(\"Please enter the denominator greater than 0\")\n",
    "except Exception as x:\n",
    "    print(x)\n",
    "    print(\"Main exception get caugh here\")"
   ]
  },
  {
   "cell_type": "code",
   "execution_count": 22,
   "metadata": {},
   "outputs": [
    {
     "name": "stdout",
     "output_type": "stream",
     "text": [
      "Enter denominator greater than 0\n"
     ]
    }
   ],
   "source": [
    "try:\n",
    "    num=int(input(\"Masukkan angka: \"))\n",
    "    result=10/num\n",
    "except ValueError:\n",
    "    print(\"This is not a valid number\")\n",
    "except ZeroDivisionError:\n",
    "    print(\"Enter denominator greater than 0\")"
   ]
  },
  {
   "cell_type": "code",
   "execution_count": 28,
   "metadata": {},
   "outputs": [
    {
     "name": "stdout",
     "output_type": "stream",
     "text": [
      "This is not a valid number\n"
     ]
    }
   ],
   "source": [
    "## Try,Except, Else Block\n",
    "\n",
    "try:\n",
    "    num=int(input(\"Masukkan angka: \"))\n",
    "    result = 10/num\n",
    "except ValueError:\n",
    "    print(\"This is not a valid number\")\n",
    "except ZeroDivisionError:\n",
    "    print(\"Enter denominator greater than 0\")\n",
    "else:\n",
    "    print(f\"The result is {result}\")\n"
   ]
  },
  {
   "cell_type": "code",
   "execution_count": 32,
   "metadata": {},
   "outputs": [
    {
     "name": "stdout",
     "output_type": "stream",
     "text": [
      "Enter denominator greater than 0\n",
      "Execution Complete!\n"
     ]
    }
   ],
   "source": [
    "## Try, Except, Else And Finally\n",
    "\n",
    "try:\n",
    "    num=int(input(\"Masukkan angka: \"))\n",
    "    result = 10/num\n",
    "except ValueError:\n",
    "    print(\"This is not a valid number\")\n",
    "except ZeroDivisionError:\n",
    "    print(\"Enter denominator greater than 0\")\n",
    "else:\n",
    "    print(f\"The result is {result}\")\n",
    "finally:\n",
    "    print(\"Execution Complete!\")"
   ]
  },
  {
   "cell_type": "code",
   "execution_count": 38,
   "metadata": {},
   "outputs": [
    {
     "name": "stdout",
     "output_type": "stream",
     "text": [
      "name 'b' is not defined\n",
      "file close\n"
     ]
    }
   ],
   "source": [
    "## File Handling & Exception Handling\n",
    "\n",
    "try:\n",
    "    file = open('example1.txt','r')\n",
    "    content = file.read()\n",
    "    a=b\n",
    "    print(content)\n",
    "except FileNotFoundError:\n",
    "    print(\" The file is doesnt exist\")\n",
    "except Exception as ex:\n",
    "    print(ex)\n",
    "finally:\n",
    "    if 'file' in locals() or not file.closed():\n",
    "        file.close()\n",
    "        print('file close')"
   ]
  },
  {
   "cell_type": "code",
   "execution_count": 39,
   "metadata": {},
   "outputs": [
    {
     "name": "stdout",
     "output_type": "stream",
     "text": [
      "True\n"
     ]
    }
   ],
   "source": [
    "if 'file' in locals():\n",
    "    print(True)"
   ]
  },
  {
   "cell_type": "code",
   "execution_count": null,
   "metadata": {},
   "outputs": [],
   "source": []
  }
 ],
 "metadata": {
  "kernelspec": {
   "display_name": "Python 3",
   "language": "python",
   "name": "python3"
  },
  "language_info": {
   "codemirror_mode": {
    "name": "ipython",
    "version": 3
   },
   "file_extension": ".py",
   "mimetype": "text/x-python",
   "name": "python",
   "nbconvert_exporter": "python",
   "pygments_lexer": "ipython3",
   "version": "3.12.0"
  }
 },
 "nbformat": 4,
 "nbformat_minor": 2
}
