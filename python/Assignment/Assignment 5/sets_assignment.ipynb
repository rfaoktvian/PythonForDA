{
 "cells": [
  {
   "cell_type": "markdown",
   "metadata": {},
   "source": [
    "# Module 3: Data Structures Assignments\n",
    "## Lesson 3.3: Sets\n",
    "### Assignment 1: Creating and Accessing Sets\n",
    "\n",
    "Create a set with the first 10 positive integers. Print the set.\n",
    "\n",
    "### Assignment 2: Adding and Removing Elements\n",
    "\n",
    "Add the number 11 to the set created in Assignment 1. Then remove the number 1 from the set. Print the modified set.\n",
    "\n",
    "### Assignment 3: Set Operations\n",
    "\n",
    "Create two sets: one with the first 5 positive integers and another with the first 5 even integers. Perform and print the results of union, intersection, difference, and symmetric difference operations on these sets.\n",
    "\n",
    "### Assignment 4: Set Comprehensions\n",
    "\n",
    "Create a new set containing the squares of the first 10 positive integers using a set comprehension. Print the new set.\n",
    "\n",
    "### Assignment 5: Filtering Sets\n",
    "\n",
    "Create a new set containing only the even numbers from the set created in Assignment 1 using a set comprehension. Print the new set.\n",
    "\n",
    "### Assignment 6: Set Methods\n",
    "\n",
    "Create a set with duplicate elements and remove the duplicates using set methods. Print the modified set.\n",
    "\n",
    "### Assignment 7: Subsets and Supersets\n",
    "\n",
    "Create two sets: one with the first 5 positive integers and another with the first 3 positive integers. Check if the second set is a subset of the first set and if the first set is a superset of the second set. Print the results.\n",
    "\n",
    "### Assignment 8: Frozenset\n",
    "\n",
    "Create a frozenset with the first 5 positive integers. Print the frozenset.\n",
    "\n",
    "### Assignment 9: Set and List Conversion\n",
    "\n",
    "Create a set with the first 5 positive integers. Convert it to a list, append the number 6, and convert it back to a set. Print the resulting set.\n",
    "\n",
    "### Assignment 10: Set and Dictionary\n",
    "\n",
    "Create a dictionary with set keys and integer values. Print the dictionary.\n",
    "\n",
    "### Assignment 11: Iterating Over Sets\n",
    "\n",
    "Create a set and iterate over the elements, printing each element.\n",
    "\n",
    "### Assignment 12: Removing Elements from Sets\n",
    "\n",
    "Create a set and remove elements from it until it is empty. Print the set after each removal.\n",
    "\n",
    "### Assignment 13: Set Symmetric Difference Update\n",
    "\n",
    "Create two sets and update the first set with the symmetric difference of the two sets. Print the modified first set.\n",
    "\n",
    "### Assignment 14: Set Membership Testing\n",
    "\n",
    "Create a set and test if certain elements are present in the set. Print the results.\n",
    "\n",
    "### Assignment 15: Set of Tuples\n",
    "\n",
    "Create a set containing tuples, where each tuple contains two elements. Print the set."
   ]
  },
  {
   "cell_type": "code",
   "execution_count": 1,
   "metadata": {},
   "outputs": [
    {
     "name": "stdout",
     "output_type": "stream",
     "text": [
      "{1, 2, 3, 4, 5, 6, 7, 8, 9, 10} <class 'set'>\n"
     ]
    }
   ],
   "source": [
    "## 1 Creating and Accessing sets\n",
    "## Create a set with the first 10 positive integers. Print the set.\n",
    "\n",
    "setku = {1,2,3,4,5,6,7,8,9,10}\n",
    "\n",
    "print(setku,type(setku))\n"
   ]
  },
  {
   "cell_type": "code",
   "execution_count": 3,
   "id": "9da28ed1",
   "metadata": {},
   "outputs": [
    {
     "name": "stdout",
     "output_type": "stream",
     "text": [
      "{2, 3, 4, 5, 6, 7, 8, 9, 10, 11}\n"
     ]
    }
   ],
   "source": [
    "## 2 Adding and Removing Elements\n",
    "## Add the number 11 to the set created in Assignment 1. \n",
    "## Then remove the number 1 from the set. Print the modified set.\n",
    "\n",
    "setku.add(11)\n",
    "setku.remove(1)\n",
    "print(setku)"
   ]
  },
  {
   "cell_type": "code",
   "execution_count": 4,
   "id": "de9af33e",
   "metadata": {},
   "outputs": [
    {
     "name": "stdout",
     "output_type": "stream",
     "text": [
      "{1, 2, 3, 4, 5, 6, 8}\n",
      "{2, 4, 5}\n",
      "{1, 3}\n",
      "{1, 3, 6, 8}\n"
     ]
    }
   ],
   "source": [
    "## 3 Set Operations\n",
    "## Create two sets: one with the first 5 positive integers and another with the first 5 even integers. \n",
    "# Perform and print the results of union, intersection, difference, and symmetric difference operations on these sets.\n",
    "\n",
    "set1 = {1,2,3,4,5}\n",
    "set2 ={2,4,5,6,8}\n",
    "\n",
    "my_union = set1.union(set2)\n",
    "my_intersection = set1.intersection(set2)\n",
    "my_difference = set1.difference(set2)\n",
    "sim_difference = set1.symmetric_difference(set2)\n",
    "\n",
    "\n",
    "print(my_union)\n",
    "print(my_intersection)\n",
    "print(my_difference)\n",
    "print(sim_difference)"
   ]
  },
  {
   "cell_type": "code",
   "execution_count": 22,
   "id": "97514b64",
   "metadata": {},
   "outputs": [
    {
     "name": "stdout",
     "output_type": "stream",
     "text": [
      "Hasil dari bilangan tersebut yaitu: {64, 1, 4, 36, 100, 9, 16, 49, 81, 25}\n"
     ]
    }
   ],
   "source": [
    "## 4 Set Comprehensions\n",
    "## Create a new set containing the squares of the first 10 positive integers using a set comprehension. \n",
    "# Print the new set.\n",
    "\n",
    "squaree = {x**2 for x in range(1,11)}\n",
    "print(f\"Hasil dari bilangan tersebut yaitu: {squaree}\")\n",
    "\n"
   ]
  },
  {
   "cell_type": "code",
   "execution_count": 24,
   "id": "4b8f03fa",
   "metadata": {},
   "outputs": [
    {
     "name": "stdout",
     "output_type": "stream",
     "text": [
      "{2, 4, 6, 8, 10}\n"
     ]
    }
   ],
   "source": [
    "## 5 Filtering Sets\n",
    "## Create a new set containing only the even numbers from the set created in\n",
    "## Assignment 1 using a set comprehension. Print the new set.\n",
    "new_s = {x for x in setku if x %2==0}\n",
    "print(new_s)"
   ]
  },
  {
   "cell_type": "code",
   "execution_count": 26,
   "id": "96d8f523",
   "metadata": {},
   "outputs": [
    {
     "name": "stdout",
     "output_type": "stream",
     "text": [
      "{1, 2, 3, 4, 9}\n"
     ]
    }
   ],
   "source": [
    "## 6 Set Methods\n",
    "## Create a set with duplicate elements and remove the duplicates using set methods. Print the modified set.\n",
    "\n",
    "duplikatset = {1,2,2,3,4,4,9}\n",
    "set(duplikatset)\n",
    "print(duplikatset)\n"
   ]
  },
  {
   "cell_type": "code",
   "execution_count": 29,
   "id": "d6f97aac",
   "metadata": {},
   "outputs": [
    {
     "name": "stdout",
     "output_type": "stream",
     "text": [
      "True\n",
      "True\n"
     ]
    }
   ],
   "source": [
    "## 7 Subsets & Superset\n",
    "## Create two sets: one with the first 5 positive integers and another with the first 3 positive integers. \n",
    "## Check if the second set is a subset of the first set and if the first set is a superset of the second set.\n",
    "## Print the results.\n",
    "\n",
    "dataku = {1,2,3,4,5}\n",
    "dataku2 = {1,2,3}\n",
    "\n",
    "check_subset = dataku2.issubset(dataku)\n",
    "check_superset = dataku.issuperset(dataku2)\n",
    "\n",
    "print(check_subset)\n",
    "print(check_superset)"
   ]
  },
  {
   "cell_type": "code",
   "execution_count": 33,
   "id": "dc1a53b6",
   "metadata": {},
   "outputs": [
    {
     "name": "stdout",
     "output_type": "stream",
     "text": [
      "frozenset({1, 2, 3, 4, 5}) <class 'frozenset'>\n"
     ]
    }
   ],
   "source": [
    "## 8 Frozenset\n",
    "## Create a frozenset with the first 5 positive integers. Print the frozenset.\n",
    "\n",
    "fz = frozenset(range(1,6))\n",
    "print(fz,type(fz))"
   ]
  },
  {
   "cell_type": "code",
   "execution_count": 35,
   "id": "a67c977d",
   "metadata": {},
   "outputs": [
    {
     "name": "stdout",
     "output_type": "stream",
     "text": [
      "{1, 2, 3, 4, 5}\n",
      "{1, 2, 3, 4, 5, 6}\n"
     ]
    }
   ],
   "source": [
    "## 9 Set and List Conversion\n",
    "## Create a set with the first 5 positive integers. \n",
    "## Convert it to a list, append the number 6, and convert it back to a set. Print the resulting set.\n",
    "\n",
    "s = set(range(1,6))\n",
    "print(s)\n",
    "\n",
    "l = list(s)\n",
    "l.append(6)\n",
    "\n",
    "s = set(l)\n",
    "print(s)"
   ]
  },
  {
   "cell_type": "code",
   "execution_count": 40,
   "id": "4a4b7dff",
   "metadata": {},
   "outputs": [
    {
     "name": "stdout",
     "output_type": "stream",
     "text": [
      "{frozenset({'nama:'}): 'Raffa', frozenset({'Usia'}): 'R', frozenset({'Hobi'}): 'Mancing'} <class 'dict'>\n"
     ]
    }
   ],
   "source": [
    "## 10 Set and Dictionary\n",
    "## Create a dictionary with set keys and integer values. Print the dictionary.\n",
    "\n",
    "my_dic = {\n",
    "    frozenset([\"nama:\"]) : \"Raffa\",\n",
    "    frozenset([\"Usia\"]) : \"R\",\n",
    "    frozenset([\"Hobi\"]) : \"Mancing\"\n",
    "}\n",
    "\n",
    "print(my_dic,type(my_dic))"
   ]
  },
  {
   "cell_type": "code",
   "execution_count": 42,
   "id": "0a32e206",
   "metadata": {},
   "outputs": [
    {
     "name": "stdout",
     "output_type": "stream",
     "text": [
      "1 66 3 5 22 44 "
     ]
    }
   ],
   "source": [
    "## 11 Iterating over Sets\n",
    "## Create a set and iterate over the elements, printing each element.\n",
    "\n",
    "sk = {1,22,3,44,5,66}\n",
    "\n",
    "for i in sk:\n",
    "    print(i,end=\" \")"
   ]
  },
  {
   "cell_type": "code",
   "execution_count": 58,
   "id": "96f29775",
   "metadata": {},
   "outputs": [
    {
     "name": "stdout",
     "output_type": "stream",
     "text": [
      "{1, 2, 3, 4, 5, 6, 7, 8, 9}\n"
     ]
    }
   ],
   "source": [
    "## 12 Removing Elements from Sets\n",
    "## Create a set and remove elements from it until it is empty. Print the set after each removal.\n",
    "\n",
    "f = set(range(1,10))\n",
    "print(f)\n",
    "\n",
    "while s:\n",
    "    s.pop()\n",
    "    print(s)"
   ]
  },
  {
   "cell_type": "code",
   "execution_count": 71,
   "id": "7390b608",
   "metadata": {},
   "outputs": [
    {
     "name": "stdout",
     "output_type": "stream",
     "text": [
      "{1, 2, 3, 4, 5}\n",
      "{1, 2, 3, 4, 5, 6, 7, 8}\n",
      "{6, 7, 8}\n"
     ]
    }
   ],
   "source": [
    "## 13 Set Symmetric Different Update\n",
    "## Create two sets and update the first set with the symmetric \n",
    "## difference of the two sets. Print the modified first set.\n",
    "\n",
    "h = set(range(1,6))\n",
    "print(h)\n",
    "i = set(range(1,9))\n",
    "print(i)\n",
    "\n",
    "h = h.symmetric_difference(i)\n",
    "print(h)"
   ]
  },
  {
   "cell_type": "code",
   "execution_count": 78,
   "id": "3b26912c",
   "metadata": {},
   "outputs": [
    {
     "name": "stdout",
     "output_type": "stream",
     "text": [
      "{1, 2, 3, 4}\n",
      "{1, 2, 3, 4} True\n"
     ]
    }
   ],
   "source": [
    "## 14 Set Membership Testing\n",
    "## Create a set and test if certain elements are present in the set. Print the results.\n",
    "\n",
    "a = set(range(1,5))\n",
    "print(a)\n",
    "\n",
    "print(a,2 in a)"
   ]
  },
  {
   "cell_type": "code",
   "execution_count": 80,
   "id": "39e1d5f5",
   "metadata": {},
   "outputs": [
    {
     "name": "stdout",
     "output_type": "stream",
     "text": [
      "{(2, 3), (4, 5), (7, 9)}\n",
      "(2, 3) (4, 5) (7, 9) "
     ]
    }
   ],
   "source": [
    "## 15 Set of Tuples\n",
    "## Create a set containing tuples, where each tuple contains two elements. Print the set.\n",
    "\n",
    "d = {(2,3),(4,5),(7,9)}\n",
    "print(d)\n",
    "\n",
    "for i in d:\n",
    "    print(i,end=\" \")"
   ]
  }
 ],
 "metadata": {
  "kernelspec": {
   "display_name": "venv",
   "language": "python",
   "name": "python3"
  },
  "language_info": {
   "codemirror_mode": {
    "name": "ipython",
    "version": 3
   },
   "file_extension": ".py",
   "mimetype": "text/x-python",
   "name": "python",
   "nbconvert_exporter": "python",
   "pygments_lexer": "ipython3",
   "version": "3.12.0"
  }
 },
 "nbformat": 4,
 "nbformat_minor": 5
}
