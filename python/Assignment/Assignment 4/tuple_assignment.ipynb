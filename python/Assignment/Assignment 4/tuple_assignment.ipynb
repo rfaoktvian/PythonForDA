{
 "cells": [
  {
   "cell_type": "markdown",
   "id": "6cade624",
   "metadata": {},
   "source": [
    "# Module 3: Data Structures Assignments\n",
    "## Lesson 3.2: Tuples\n",
    "### Assignment 1: Creating and Accessing Tuples\n",
    "\n",
    "Create a tuple with the first 10 positive integers. Print the tuple.\n",
    "\n",
    "### Assignment 2: Accessing Tuple Elements\n",
    "\n",
    "Print the first, middle, and last elements of the tuple created in Assignment 1.\n",
    "\n",
    "### Assignment 3: Tuple Slicing\n",
    "\n",
    "Print the first three elements, the last three elements, and the elements from index 2 to 5 of the tuple created in Assignment 1.\n",
    "\n",
    "### Assignment 4: Nested Tuples\n",
    "\n",
    "Create a nested tuple representing a 3x3 matrix and print the matrix. Access and print the element at the second row and third column.\n",
    "\n",
    "### Assignment 5: Tuple Concatenation\n",
    "\n",
    "Concatenate two tuples: (1, 2, 3) and (4, 5, 6). Print the resulting tuple.\n",
    "\n",
    "### Assignment 6: Tuple Methods\n",
    "\n",
    "Create a tuple with duplicate elements and count the occurrences of an element. Find the index of the first occurrence of an element in the tuple.\n",
    "\n",
    "### Assignment 7: Unpacking Tuples\n",
    "\n",
    "Create a tuple with 5 elements and unpack it into 5 variables. Print the variables.\n",
    "\n",
    "### Assignment 8: Tuple Conversion\n",
    "\n",
    "Convert a list of the first 5 positive integers to a tuple. Print the tuple.\n",
    "\n",
    "### Assignment 9: Tuple of Tuples\n",
    "\n",
    "Create a tuple containing 3 tuples, each with 3 elements. Print the tuple of tuples.\n",
    "\n",
    "### Assignment 10: Tuple and List\n",
    "\n",
    "Create a tuple with the first 5 positive integers. Convert it to a list, append the number 6, and convert it back to a tuple. Print the resulting tuple.\n",
    "\n",
    "### Assignment 11: Tuple and String\n",
    "\n",
    "Create a tuple with the characters of a string. Join the tuple elements into a single string. Print the string.\n",
    "\n",
    "### Assignment 12: Tuple and Dictionary\n",
    "\n",
    "Create a dictionary with tuple keys and integer values. Print the dictionary.\n",
    "\n",
    "### Assignment 13: Nested Tuple Iteration\n",
    "\n",
    "Create a nested tuple and iterate over the elements, printing each element.\n",
    "\n",
    "### Assignment 14: Tuple and Set\n",
    "\n",
    "Create a tuple with duplicate elements. Convert it to a set to remove duplicates and print the resulting set.\n",
    "\n",
    "### Assignment 15: Tuple Functions\n",
    "\n",
    "Write functions that take a tuple and return the minimum, maximum, and sum of the elements. Print the results for a sample tuple."
   ]
  },
  {
   "cell_type": "code",
   "execution_count": 1,
   "metadata": {},
   "outputs": [
    {
     "name": "stdout",
     "output_type": "stream",
     "text": [
      "(1, 2, 3, 4, 5) <class 'tuple'>\n"
     ]
    }
   ],
   "source": [
    "## 1\n",
    "## Creating tuple with 10 positive integers\n",
    "\n",
    "contoh_tuple = (1,2,3,4,5)\n",
    "print(contoh_tuple,type(contoh_tuple))\n"
   ]
  },
  {
   "cell_type": "code",
   "execution_count": 2,
   "id": "e9e7394a",
   "metadata": {},
   "outputs": [
    {
     "name": "stdout",
     "output_type": "stream",
     "text": [
      "1\n",
      "3\n",
      "5\n"
     ]
    }
   ],
   "source": [
    "## 2\n",
    "## Accessing Tuple Elements\n",
    "## Print the first, middle, and last elements of the tuple created in Assignment 1.\n",
    "\n",
    "print(contoh_tuple[0])\n",
    "print(contoh_tuple[2])\n",
    "print(contoh_tuple[4])\n"
   ]
  },
  {
   "cell_type": "code",
   "execution_count": 14,
   "id": "56a158e9",
   "metadata": {},
   "outputs": [
    {
     "name": "stdout",
     "output_type": "stream",
     "text": [
      "(1, 2, 3)\n",
      "(3, 4, 5)\n",
      "(2, 3, 4, 5)\n"
     ]
    }
   ],
   "source": [
    "## 3\n",
    "## Tuple Slicing\n",
    "## Print the first three elements, the last three elements,\n",
    "## and the elements from index 2 to 5 of the tuple created in Assignment 1.\n",
    "\n",
    "\n",
    "print(contoh_tuple[:3])\n",
    "print(contoh_tuple[-3:])\n",
    "print(contoh_tuple[1:6])"
   ]
  },
  {
   "cell_type": "code",
   "execution_count": 42,
   "id": "670e6bea",
   "metadata": {},
   "outputs": [
    {
     "name": "stdout",
     "output_type": "stream",
     "text": [
      "Matrix: \n",
      "(1, 2, 3)\n",
      "(4, 5, 6)\n",
      "(7, 8, 9)\n",
      "Elemen Baris Kedua dan Kolom Ketiga: 6\n"
     ]
    }
   ],
   "source": [
    "## 4\n",
    "## Nested Tuples\n",
    "## Create a nested tuple representing a 3x3 matrix and print the matrix.\n",
    "## Access and print the element at the second row and third column.\n",
    "\n",
    "tupleku=[(1,2,3),(4,5,6),(7,8,9)]\n",
    "\n",
    "print(\"Matrix: \")\n",
    "for i in tupleku:\n",
    "    print(i)\n",
    "\n",
    "\n",
    "print(f\"Elemen Baris Kedua dan Kolom Ketiga: {tupleku[1][2]}\")\n",
    "\n"
   ]
  },
  {
   "cell_type": "code",
   "execution_count": 44,
   "id": "90e0c711",
   "metadata": {},
   "outputs": [
    {
     "name": "stdout",
     "output_type": "stream",
     "text": [
      "list[(1, 2, 3), (4, 5, 6)]\n"
     ]
    }
   ],
   "source": [
    "## 5\n",
    "## Tuple Concatenation\n",
    "## Concatenate two tuples: (1, 2, 3) and (4, 5, 6). Print the resulting tuple.\n",
    "\n",
    "angka1 = (1,2,3)\n",
    "angka2 = (4,5,6)\n",
    "\n",
    "concatenationT = angka1 + angka2\n",
    "print(concatenationT)"
   ]
  },
  {
   "cell_type": "code",
   "execution_count": 47,
   "id": "6945c6da",
   "metadata": {},
   "outputs": [
    {
     "name": "stdout",
     "output_type": "stream",
     "text": [
      "Jumlah elemen 3: 2\n",
      "The first index of the occurrence: 3\n"
     ]
    }
   ],
   "source": [
    "## 6\n",
    "## Tuple Methods\n",
    "## Create a tuple with duplicate elements and count the occurrences of an element. \n",
    "## Find the index of the first occurrence of an element in the tuple.\n",
    "\n",
    "tuples = [1,2,4,3,4,6,3]\n",
    "print(f\"Jumlah elemen 3: {tuples.count(3)}\")\n",
    "print(f\"The first index of the occurrence: {tuples.index(3)}\")"
   ]
  },
  {
   "cell_type": "code",
   "execution_count": 56,
   "id": "db7b099b",
   "metadata": {},
   "outputs": [
    {
     "name": "stdout",
     "output_type": "stream",
     "text": [
      "1 2 3 4 5\n"
     ]
    }
   ],
   "source": [
    "## 7\n",
    "## Unpacking Tuples\n",
    "## Create a tuple with 5 elements and unpack it into 5 variables. Print the variables.\n",
    "\n",
    "upak = (1,2,3,4,5)\n",
    "\n",
    "(satu,dua,tiga,empat,lima) = upak\n",
    "\n",
    "print(satu,dua,tiga,empat,lima)"
   ]
  },
  {
   "cell_type": "code",
   "execution_count": 85,
   "id": "4340654e",
   "metadata": {},
   "outputs": [
    {
     "name": "stdout",
     "output_type": "stream",
     "text": [
      "[1, 2, 3, 4, 5] <class 'list'>\n",
      "(1, 2, 3, 4, 5) <class 'tuple'>\n"
     ]
    }
   ],
   "source": [
    "## 8\n",
    "## Tuple Conversion\n",
    "## Convert a list of the first 5 positive integers to a tuple. Print the tuple.\n",
    "\n",
    "kist = [1,2,3,4,5]\n",
    "print(kist,type(kist))\n",
    "\n",
    "tupleku = tuple(kist)\n",
    "print(tupleku,type(tupleku))"
   ]
  },
  {
   "cell_type": "code",
   "execution_count": 67,
   "id": "4eee827c",
   "metadata": {},
   "outputs": [
    {
     "name": "stdout",
     "output_type": "stream",
     "text": [
      "(1, 2, 3)\n",
      "(4, 5, 6)\n",
      "(7, 8, 9)\n"
     ]
    }
   ],
   "source": [
    "## 9\n",
    "## Tuple of Tuples\n",
    "## Create a tuple containing 3 tuples, each with 3 elements. Print the tuple of tuples.\n",
    "bilangan = ((1,2,3),(4,5,6),(7,8,9))\n",
    "\n",
    "for i in bilangan:\n",
    "    print(i)\n",
    "\n"
   ]
  },
  {
   "cell_type": "code",
   "execution_count": 5,
   "id": "de6a2323",
   "metadata": {},
   "outputs": [
    {
     "name": "stdout",
     "output_type": "stream",
     "text": [
      "(1, 2, 3, 4, 5) <class 'tuple'>\n",
      "[1, 2, 3, 4, 5, 6] <class 'list'>\n",
      "(1, 2, 3, 4, 5, 6) <class 'tuple'>\n"
     ]
    }
   ],
   "source": [
    "## 10\n",
    "## Tuple and List\n",
    "## Create a tuple with the first 5 positive integers. \n",
    "## Convert it to a list, append the number 6, and convert it back to a tuple. Print the resulting tuple.\n",
    "\n",
    "Angko = (1,2,3,4,5)\n",
    " \n",
    "print(Angko,type(Angko))\n",
    "\n",
    "y = list(Angko)\n",
    "y.append(6)\n",
    "print(y,type(y))\n",
    "\n",
    "Angko = tuple(y)\n",
    "print(Angko,type(Angko))"
   ]
  },
  {
   "cell_type": "code",
   "execution_count": 11,
   "id": "ed3c5a04",
   "metadata": {},
   "outputs": [
    {
     "name": "stdout",
     "output_type": "stream",
     "text": [
      "beat vario cbr aerox\n"
     ]
    }
   ],
   "source": [
    "## 11\n",
    "## Tuple and String\n",
    "## Create a tuple with the characters of a string.\n",
    "## Join the tuple elements into a single string. Print the string.\n",
    "\n",
    "motor = (\"beat\",\"vario\",\"cbr\",\"aerox\")\n",
    "joinn = \" \".join(motor)\n",
    "print(joinn)"
   ]
  },
  {
   "cell_type": "code",
   "execution_count": 21,
   "id": "111ff07b",
   "metadata": {},
   "outputs": [
    {
     "name": "stdout",
     "output_type": "stream",
     "text": [
      "{('nama',): 1, ('kelas',): 2, ('sekolah',): 3} <class 'dict'>\n"
     ]
    }
   ],
   "source": [
    "## 12\n",
    "## Tuple and Dictionary\n",
    "## Create a dictionary with tuple keys and integer values. Print the dictionary.\n",
    "\n",
    "kamusku = {\n",
    "    (\"nama\",):1,\n",
    "    (\"kelas\",):2,\n",
    "    (\"sekolah\",):3 \n",
    "}\n",
    "\n",
    "print(kamusku,type(kamusku))"
   ]
  },
  {
   "cell_type": "code",
   "execution_count": 23,
   "id": "2427602c",
   "metadata": {},
   "outputs": [
    {
     "name": "stdout",
     "output_type": "stream",
     "text": [
      "1\n",
      "2\n",
      "3\n",
      "4\n",
      "5\n",
      "6\n",
      "7\n",
      "8\n",
      "9\n"
     ]
    }
   ],
   "source": [
    "## 13\n",
    "## Nested Tuple Iteration \n",
    "## Create a nested tuple and iterate over the elements, printing each element.\n",
    "\n",
    "tupleku = ((1,2,3),(4,5,6),(7,8,9))\n",
    "\n",
    "for i in tupleku:\n",
    "    for x in i:\n",
    "        print(x)"
   ]
  },
  {
   "cell_type": "code",
   "execution_count": 27,
   "id": "7b843c0d",
   "metadata": {},
   "outputs": [
    {
     "name": "stdout",
     "output_type": "stream",
     "text": [
      "('Apel', 'Anggur', 'Kelengkeng', 'Apel') <class 'tuple'>\n",
      "{'Anggur', 'Apel', 'Kelengkeng'} <class 'set'>\n"
     ]
    }
   ],
   "source": [
    "## 14\n",
    "## Tuple and Set\n",
    "## Create a tuple with duplicate elements.\n",
    "## Convert it to a set to remove duplicates and print the resulting set.\n",
    "\n",
    "buahku = (\"Apel\",\"Anggur\",\"Kelengkeng\",\"Apel\")\n",
    "print(buahku,type(buahku))\n",
    "\n",
    "buah = set(buahku)\n",
    "print(buah,type(buah))"
   ]
  },
  {
   "cell_type": "code",
   "execution_count": 54,
   "id": "d760cc2d",
   "metadata": {},
   "outputs": [
    {
     "name": "stdout",
     "output_type": "stream",
     "text": [
      "Angka yang paling kecil yaitu: 1\n",
      "Angka yang paling besar yaitu: 5\n",
      "Angka yang paling besar yaitu: 15\n"
     ]
    }
   ],
   "source": [
    "## 15\n",
    "## Tuple Functions\n",
    "## Write functions that take a tuple and return the minimum, maximum,\n",
    "## and sum of the elements. Print the results for a sample tuple.\n",
    "def fungsiku(angkaa):\n",
    "    print(f\"Angka yang paling kecil yaitu: {min(angkaa)}\")\n",
    "    print(f\"Angka yang paling besar yaitu: {max(angkaa)}\")\n",
    "    print(f\"Angka yang paling besar yaitu: {sum(angkaa)}\")    \n",
    "\n",
    "angkaa = (1,2,3,4,5)\n",
    "\n",
    "fungsiku(angkaa)"
   ]
  }
 ],
 "metadata": {
  "kernelspec": {
   "display_name": "venv",
   "language": "python",
   "name": "python3"
  },
  "language_info": {
   "codemirror_mode": {
    "name": "ipython",
    "version": 3
   },
   "file_extension": ".py",
   "mimetype": "text/x-python",
   "name": "python",
   "nbconvert_exporter": "python",
   "pygments_lexer": "ipython3",
   "version": "3.12.0"
  }
 },
 "nbformat": 4,
 "nbformat_minor": 5
}
