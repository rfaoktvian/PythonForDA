{
 "cells": [
  {
   "cell_type": "markdown",
   "metadata": {},
   "source": [
    "# Module 3: Data Structures Assignments\n",
    "## Lesson 3.1: Lists\n",
    "### Assignment 1: Creating and Accessing Lists\n",
    "\n",
    "Create a list of the first 20 positive integers. Print the list.\n",
    "\n",
    "### Assignment 2: Accessing List Elements\n",
    "\n",
    "Print the first, middle, and last elements of the list created in Assignment 1.\n",
    "\n",
    "### Assignment 3: List Slicing\n",
    "\n",
    "Print the first five elements, the last five elements, and the elements from index 5 to 15 of the list created in Assignment 1.\n",
    "\n",
    "### Assignment 4: List Comprehensions\n",
    "\n",
    "Create a new list containing the squares of the first 10 positive integers using a list comprehension. Print the new list.\n",
    "\n",
    "### Assignment 5: Filtering Lists\n",
    "\n",
    "Create a new list containing only the even numbers from the list created in Assignment 1 using a list comprehension. Print the new list.\n",
    "\n",
    "### Assignment 6: List Methods\n",
    "\n",
    "Create a list of random numbers and sort it in ascending and descending order. Remove the duplicates from the list and print the modified list.\n",
    "\n",
    "### Assignment 7: Nested Lists\n",
    "\n",
    "Create a nested list representing a 3x3 matrix and print the matrix. Access and print the element at the second row and third column.\n",
    "\n",
    "### Assignment 8: List of Dictionaries\n",
    "\n",
    "Create a list of dictionaries where each dictionary represents a student with keys 'name' and 'score'. Sort the list of dictionaries by the 'score' in descending order and print the sorted list.\n",
    "\n",
    "### Assignment 9: Matrix Transposition\n",
    "\n",
    "Write a function that takes a 3x3 matrix (nested list) as input and returns its transpose. Print the original and transposed matrices.\n",
    "\n",
    "### Assignment 10: Flattening a Nested List\n",
    "\n",
    "Write a function that takes a nested list and flattens it into a single list. Print the original and flattened lists.\n",
    "\n",
    "### Assignment 11: List Manipulation\n",
    "\n",
    "Create a list of the first 10 positive integers. Remove the elements at indices 2, 4, and 6, and insert the element '99' at index 5. Print the modified list.\n",
    "\n",
    "### Assignment 12: List Zipping\n",
    "\n",
    "Create two lists of the same length. Use the `zip` function to combine these lists into a list of tuples and print the result.\n",
    "\n",
    "### Assignment 13: List Reversal\n",
    "\n",
    "Write a function that takes a list and returns a new list with the elements in reverse order. Print the original and reversed lists.\n",
    "\n",
    "### Assignment 14: List Rotation\n",
    "\n",
    "Write a function that rotates a list by n positions. Print the original and rotated lists.\n",
    "\n",
    "### Assignment 15: List Intersection\n",
    "\n",
    "Write a function that takes two lists and returns a new list containing only the elements that are present in both lists. Print the intersected list."
   ]
  },
  {
   "cell_type": "code",
   "execution_count": 1,
   "id": "3f4a5fe5",
   "metadata": {},
   "outputs": [
    {
     "name": "stdout",
     "output_type": "stream",
     "text": [
      "[1, 2, 3, 4, 5, 6, 7, 8, 9, 10, 11, 12, 13, 14, 15, 16, 17, 18, 19, 20]\n"
     ]
    }
   ],
   "source": [
    "## 1\n",
    "\n",
    "lst = list(range(1, 21))\n",
    "print(lst)"
   ]
  },
  {
   "cell_type": "code",
   "execution_count": 3,
   "id": "3786221a",
   "metadata": {},
   "outputs": [
    {
     "name": "stdout",
     "output_type": "stream",
     "text": [
      "1\n",
      "11\n",
      "20\n"
     ]
    }
   ],
   "source": [
    "## 2\n",
    "\n",
    "print(lst[0]) #pertama\n",
    "print(lst[10]) #tengah\n",
    "print(lst[19]) #terakhir"
   ]
  },
  {
   "cell_type": "code",
   "execution_count": 5,
   "id": "fa179ff1",
   "metadata": {},
   "outputs": [
    {
     "name": "stdout",
     "output_type": "stream",
     "text": [
      "[1, 2, 3, 4, 5]\n",
      "[16, 17, 18, 19, 20]\n",
      "[6, 7, 8, 9, 10, 11, 12, 13, 14, 15, 16]\n"
     ]
    }
   ],
   "source": [
    "## 3\n",
    "\n",
    "print(lst[:5])\n",
    "print(lst[-5:])\n",
    "print(lst[5:16])"
   ]
  },
  {
   "cell_type": "code",
   "execution_count": 12,
   "id": "2c10e619",
   "metadata": {},
   "outputs": [
    {
     "name": "stdout",
     "output_type": "stream",
     "text": [
      "[1, 4, 9, 16, 25, 36, 49, 64, 81, 100]\n"
     ]
    }
   ],
   "source": [
    "## 4\n",
    "# List Comprehensivee\n",
    "\n",
    "square = [num**2 for num in range(1,11)]\n",
    "print(square)\n"
   ]
  },
  {
   "cell_type": "code",
   "execution_count": 14,
   "id": "c41f714b",
   "metadata": {},
   "outputs": [
    {
     "name": "stdout",
     "output_type": "stream",
     "text": [
      "[2, 4, 6, 8, 10, 12, 14, 16, 18, 20]\n"
     ]
    }
   ],
   "source": [
    "## 5\n",
    "even_num=[num for num in lst if num%2==0]\n",
    "print(even_num)"
   ]
  },
  {
   "cell_type": "code",
   "execution_count": 26,
   "id": "b68bc930",
   "metadata": {},
   "outputs": [
    {
     "name": "stdout",
     "output_type": "stream",
     "text": [
      "[7, 10, 8, 1, 3, 6, 1, 4, 2, 2, 10, 5, 4, 4, 1]\n",
      "Bilangan ascending: [1, 1, 1, 2, 2, 3, 4, 4, 4, 5, 6, 7, 8, 10, 10]\n",
      "Bilangan descending: [10, 10, 8, 7, 6, 5, 4, 4, 4, 3, 2, 2, 1, 1, 1]\n",
      "Bilangan yang sudah dibershihkan: [1, 2, 3, 4, 5, 6, 7, 8, 10]\n"
     ]
    }
   ],
   "source": [
    "## 6\n",
    "\n",
    "import random\n",
    "\n",
    "nomor_acak = [random.randint(1,10) for _ in range(15)]\n",
    "print(nomor_acak)\n",
    "nomor_acak.sort()\n",
    "print(f\"Bilangan ascending: {nomor_acak}\")\n",
    "nomor_acak.reverse()\n",
    "print(f\"Bilangan descending: {nomor_acak}\")\n",
    "acakkk=list(set(nomor_acak))\n",
    "print(f\"Bilangan yang sudah dibershihkan: {acakkk}\")\n"
   ]
  },
  {
   "cell_type": "code",
   "execution_count": 33,
   "id": "25a620d2",
   "metadata": {},
   "outputs": [
    {
     "name": "stdout",
     "output_type": "stream",
     "text": [
      "Matrix:\n",
      "[1, 2, 3]\n",
      "[4, 5, 6]\n",
      "[7, 8, 9]\n",
      "Element at second row and third column: 6\n"
     ]
    }
   ],
   "source": [
    "## 7\n",
    "matrix = [\n",
    "    [1, 2, 3],\n",
    "    [4, 5, 6],\n",
    "    [7, 8, 9]\n",
    "]\n",
    "print(\"Matrix:\")\n",
    "for row in matrix:\n",
    "    print(row)\n",
    "print(f\"Element at second row and third column: {matrix[1][2]}\")"
   ]
  },
  {
   "cell_type": "code",
   "execution_count": 45,
   "id": "efc8250b",
   "metadata": {},
   "outputs": [
    {
     "name": "stdout",
     "output_type": "stream",
     "text": [
      "Hasil dari pengurutan berdasarkan score: \n",
      "{'Name': 'Nazly', 'Score': 88}\n",
      "{'Name': 'Nuzqu', 'Score': 86}\n",
      "{'Name': 'Oktavian', 'Score': 85}\n",
      "{'Name': 'Raffa', 'Score': 80}\n"
     ]
    }
   ],
   "source": [
    "## 8\n",
    "\n",
    "student = [\n",
    "    {'Name': 'Raffa', 'Score': 80},\n",
    "    {'Name': 'Oktavian', 'Score': 85},\n",
    "    {'Name': 'Nazly', 'Score': 88},\n",
    "    {'Name': 'Nuzqu', 'Score': 86},\n",
    "]\n",
    "\n",
    "urutann = sorted(student, key=lambda x:x['Score'], reverse=True )\n",
    "print(f\"Hasil dari pengurutan berdasarkan score: \")\n",
    "for student in urutann:\n",
    "    print(student)"
   ]
  },
  {
   "cell_type": "code",
   "execution_count": 4,
   "id": "c7ea69ed",
   "metadata": {},
   "outputs": [
    {
     "name": "stdout",
     "output_type": "stream",
     "text": [
      "Enter a 3x3 matrix (enter 3 numbers per row):\n",
      "\n",
      "Original matrix:\n",
      "[3, 2, 1]\n",
      "[4, 5, 6]\n",
      "[7, 8, 9]\n",
      "\n",
      "Transposed matrix:\n",
      "[3, 4, 7]\n",
      "[2, 5, 8]\n",
      "[1, 6, 9]\n"
     ]
    }
   ],
   "source": [
    "## 9 \n",
    "def transpose_matrix(matrix):\n",
    "    transposed = [[matrix[j][i] for j in range(len(matrix))] for i in range(len(matrix[0]))]\n",
    "    return transposed\n",
    "\n",
    "# Initialize an empty matrix\n",
    "matrix = []\n",
    "\n",
    "# Input matrix elements from the user\n",
    "print(\"Enter a 3x3 matrix (enter 3 numbers per row):\")\n",
    "for i in range(3):\n",
    "    row = list(map(int, input(f\"Enter row {i+1} elements separated by space: \").split()))\n",
    "    matrix.append(row)\n",
    "\n",
    "# Transpose the matrix\n",
    "transposed = transpose_matrix(matrix)\n",
    "\n",
    "# Print original and transposed matrices\n",
    "print(\"\\nOriginal matrix:\")\n",
    "for row in matrix:\n",
    "    print(row)\n",
    "\n",
    "print(\"\\nTransposed matrix:\")\n",
    "for row in transposed:\n",
    "    print(row)"
   ]
  },
  {
   "cell_type": "code",
   "execution_count": null,
   "id": "82020da3",
   "metadata": {},
   "outputs": [],
   "source": []
  },
  {
   "cell_type": "code",
   "execution_count": 6,
   "id": "1b7f9224",
   "metadata": {},
   "outputs": [
    {
     "name": "stdout",
     "output_type": "stream",
     "text": [
      "Original nested list:\n",
      "[[1, 2, 3], [4, 5, 6], [7, 8, 9]]\n",
      "Flattened list:\n",
      "[1, 2, 3, 4, 5, 6, 7, 8, 9]\n"
     ]
    }
   ],
   "source": [
    "# 10\n",
    "\n",
    "def flatten_list(nested_list):\n",
    "    rata = []\n",
    "    for i in nested_list:\n",
    "        for j in i:\n",
    "            rata.append(j)\n",
    "    return rata\n",
    "\n",
    "nested_list = [\n",
    "    [1, 2, 3],\n",
    "    [4, 5, 6],\n",
    "    [7, 8, 9]\n",
    "]\n",
    "flattened = flatten_list(nested_list)\n",
    "print(\"Original nested list:\")\n",
    "print(nested_list)\n",
    "print(\"Flattened list:\")\n",
    "print(flattened)"
   ]
  },
  {
   "cell_type": "code",
   "execution_count": 8,
   "id": "ac2ffe06",
   "metadata": {},
   "outputs": [
    {
     "name": "stdout",
     "output_type": "stream",
     "text": [
      "Matrix Asli: [[1, 2, 3], [4, 5, 6], [7, 8, 9]] \n",
      "Matrix setelah diratakan: [1, 2, 3, 4, 5, 6, 7, 8, 9]\n"
     ]
    }
   ],
   "source": [
    "## 10\n",
    "\n",
    "def flatten_list(nested_list):\n",
    "    rata = [j for i in nested_list for j in i]\n",
    "    return rata\n",
    "\n",
    "nested_list = [\n",
    "    [1, 2, 3],\n",
    "    [4, 5, 6],\n",
    "    [7, 8, 9]\n",
    "]\n",
    "\n",
    "flattened = flatten_list(nested_list)\n",
    "print(f\"Matrix Asli: {nested_list} \")\n",
    "print(f\"Matrix setelah diratakan: {flattened}\")"
   ]
  },
  {
   "cell_type": "code",
   "execution_count": 25,
   "id": "1bfd733c",
   "metadata": {},
   "outputs": [
    {
     "name": "stdout",
     "output_type": "stream",
     "text": [
      "[1, 3, 5, 7, 8, 9, 10]\n",
      "[1, 3, 5, 7, 8, 99, 9, 10]\n"
     ]
    }
   ],
   "source": [
    "## 11\n",
    "## Create a list of the first 10 positive integers. Remove the elements \n",
    "# at indices 2, 4, and 6, and insert the element '99' at index 5. Print the modified list.\n",
    "\n",
    "bilangan =  list(range(1,11))\n",
    "\n",
    "for i in bilangan:\n",
    "    if i % 2 == 0:\n",
    "        bilangan.remove(i)\n",
    "        if i == 6:\n",
    "            break\n",
    "print(bilangan)\n",
    "\n",
    "bilangan.insert(5, 99)\n",
    "print(bilangan)\n"
   ]
  },
  {
   "cell_type": "code",
   "execution_count": null,
   "id": "9d5d585a",
   "metadata": {},
   "outputs": [],
   "source": []
  },
  {
   "cell_type": "code",
   "execution_count": null,
   "id": "9e9a2b9a",
   "metadata": {},
   "outputs": [],
   "source": []
  }
 ],
 "metadata": {
  "kernelspec": {
   "display_name": "venv",
   "language": "python",
   "name": "python3"
  },
  "language_info": {
   "codemirror_mode": {
    "name": "ipython",
    "version": 3
   },
   "file_extension": ".py",
   "mimetype": "text/x-python",
   "name": "python",
   "nbconvert_exporter": "python",
   "pygments_lexer": "ipython3",
   "version": "3.12.0"
  }
 },
 "nbformat": 4,
 "nbformat_minor": 5
}
